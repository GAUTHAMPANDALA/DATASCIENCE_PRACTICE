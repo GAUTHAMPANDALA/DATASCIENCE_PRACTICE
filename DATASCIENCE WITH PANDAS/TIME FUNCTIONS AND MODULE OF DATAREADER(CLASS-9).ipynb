{
 "cells": [
  {
   "cell_type": "code",
   "execution_count": 7,
   "metadata": {},
   "outputs": [
    {
     "ename": "ModuleNotFoundError",
     "evalue": "No module named 'pandas_datareader'",
     "output_type": "error",
     "traceback": [
      "\u001b[1;31m---------------------------------------------------------------------------\u001b[0m",
      "\u001b[1;31mModuleNotFoundError\u001b[0m                       Traceback (most recent call last)",
      "\u001b[1;32m<ipython-input-7-ee65541c95fb>\u001b[0m in \u001b[0;36m<module>\u001b[1;34m()\u001b[0m\n\u001b[0;32m      1\u001b[0m \u001b[1;32mimport\u001b[0m \u001b[0mpandas\u001b[0m \u001b[1;32mas\u001b[0m \u001b[0mpd\u001b[0m\u001b[1;33m\u001b[0m\u001b[0m\n\u001b[0;32m      2\u001b[0m \u001b[1;32mimport\u001b[0m \u001b[0mdatetime\u001b[0m \u001b[1;32mas\u001b[0m \u001b[0mdt\u001b[0m\u001b[1;33m\u001b[0m\u001b[0m\n\u001b[1;32m----> 3\u001b[1;33m \u001b[1;32mfrom\u001b[0m \u001b[0mpandas_datareader\u001b[0m \u001b[1;32mimport\u001b[0m \u001b[0mdata\u001b[0m\u001b[1;33m\u001b[0m\u001b[0m\n\u001b[0m",
      "\u001b[1;31mModuleNotFoundError\u001b[0m: No module named 'pandas_datareader'"
     ]
    }
   ],
   "source": [
    "import pandas as pd\n",
    "import datetime as dt\n",
    "from pandas_datareader import data"
   ]
  },
  {
   "cell_type": "markdown",
   "metadata": {},
   "source": [
    "# REVIEW OF DATETIME FUNCTIONS"
   ]
  },
  {
   "cell_type": "code",
   "execution_count": 25,
   "metadata": {},
   "outputs": [
    {
     "data": {
      "text/plain": [
       "datetime.date(2010, 4, 13)"
      ]
     },
     "execution_count": 25,
     "metadata": {},
     "output_type": "execute_result"
    }
   ],
   "source": [
    "dt.date(2010,4,13) "
   ]
  },
  {
   "cell_type": "code",
   "execution_count": 26,
   "metadata": {},
   "outputs": [],
   "source": [
    "someday=dt.date(2010,4,13)"
   ]
  },
  {
   "cell_type": "code",
   "execution_count": 32,
   "metadata": {},
   "outputs": [
    {
     "name": "stdout",
     "output_type": "stream",
     "text": [
      "2010\n",
      "4\n",
      "13\n"
     ]
    }
   ],
   "source": [
    "print(someday.year)\n",
    "print(someday.month)\n",
    "print(someday.day)\n"
   ]
  },
  {
   "cell_type": "code",
   "execution_count": 29,
   "metadata": {},
   "outputs": [],
   "source": [
    "someday=dt.datetime(2010,4,13,8,13,59)"
   ]
  },
  {
   "cell_type": "code",
   "execution_count": 31,
   "metadata": {},
   "outputs": [
    {
     "name": "stdout",
     "output_type": "stream",
     "text": [
      "8\n",
      "13\n",
      "59\n"
     ]
    }
   ],
   "source": [
    "print(someday.hour)\n",
    "print(someday.minute)\n",
    "print(someday.second)"
   ]
  },
  {
   "cell_type": "code",
   "execution_count": 16,
   "metadata": {},
   "outputs": [
    {
     "data": {
      "text/plain": [
       "'2010-04-13 08:13:59'"
      ]
     },
     "execution_count": 16,
     "metadata": {},
     "output_type": "execute_result"
    }
   ],
   "source": [
    "str(dt.datetime(2010,4,13,8,13,59))"
   ]
  },
  {
   "cell_type": "markdown",
   "metadata": {},
   "source": [
    "# The pandas Timestamp object\n",
    "\n",
    "Tmestamp() object is the string object."
   ]
  },
  {
   "cell_type": "code",
   "execution_count": 58,
   "metadata": {},
   "outputs": [
    {
     "data": {
      "text/plain": [
       "Timestamp('2025-12-20 08:03:59')"
      ]
     },
     "execution_count": 58,
     "metadata": {},
     "output_type": "execute_result"
    }
   ],
   "source": [
    "pd.Timestamp(\"2015-03-31\")\n",
    "pd.Timestamp(\"2015/03/31\")\n",
    "pd.Timestamp(\"2015, 03, 31\")\n",
    "pd.Timestamp(\"1/1/11\")\n",
    "pd.Timestamp(\"20-12-25\")\n",
    "pd.Timestamp(\"20/12/25\")\n",
    "pd.Timestamp(\"20, 12, 25\")\n",
    "pd.Timestamp(\"20-12-25 08:03:59 PM\")\n",
    "pd.Timestamp(\"20-12-25 08:03:59 AM\")"
   ]
  },
  {
   "cell_type": "code",
   "execution_count": 65,
   "metadata": {},
   "outputs": [
    {
     "data": {
      "text/plain": [
       "Timestamp('2015-01-01 00:00:00')"
      ]
     },
     "execution_count": 65,
     "metadata": {},
     "output_type": "execute_result"
    }
   ],
   "source": [
    "pd.Timestamp(dt.date(2015, 1, 1))"
   ]
  },
  {
   "cell_type": "code",
   "execution_count": 69,
   "metadata": {},
   "outputs": [
    {
     "data": {
      "text/plain": [
       "Timestamp('2015-01-01 22:13:29')"
      ]
     },
     "execution_count": 69,
     "metadata": {},
     "output_type": "execute_result"
    }
   ],
   "source": [
    "pd.Timestamp(dt.datetime(2015, 1, 1, 22, 13, 29))"
   ]
  },
  {
   "cell_type": "markdown",
   "metadata": {},
   "source": [
    "# The pandas DateTime object\n",
    "\n",
    "This takes the list of dates as strings in the manner of \"YY MM DD (or) DD MM YY\" and converts them into pandas timeStamp to perform panda series and method operations"
   ]
  },
  {
   "cell_type": "code",
   "execution_count": 79,
   "metadata": {},
   "outputs": [
    {
     "name": "stdout",
     "output_type": "stream",
     "text": [
      "DatetimeIndex(['2016-12-12', '2015-12-15', '2015-12-14'], dtype='datetime64[ns]', freq=None)\n",
      "<class 'pandas.core.indexes.datetimes.DatetimeIndex'>\n"
     ]
    }
   ],
   "source": [
    "dates=[\"2016-12-12\", \"2015/12/15\", \"2015-12-14\"]\n",
    "print(pd.DatetimeIndex(dates))\n",
    "#first makes the Strings into pandas time stampa dn stores in object\n",
    "print(type(pd.DatetimeIndex(dates)))"
   ]
  },
  {
   "cell_type": "code",
   "execution_count": 84,
   "metadata": {},
   "outputs": [],
   "source": [
    "dates=[dt.date(2016,1,10), dt.date(2016,10,11), dt.date(2016,11,10)]\n",
    "dtIndex=pd.DatetimeIndex(dates)\n",
    "pd.DatetimeIndex(dates)"
   ]
  },
  {
   "cell_type": "code",
   "execution_count": 86,
   "metadata": {},
   "outputs": [
    {
     "data": {
      "text/plain": [
       "2016-01-10    100\n",
       "2016-10-11    200\n",
       "2016-11-10    123\n",
       "dtype: int64"
      ]
     },
     "execution_count": 86,
     "metadata": {},
     "output_type": "execute_result"
    }
   ],
   "source": [
    "values=[100,200,123]\n",
    "pd.Series(data=values,index=dtIndex)\n",
    "#creates a series which has the given list as values and their indexes are DateTimeindexes in above cell."
   ]
  },
  {
   "cell_type": "markdown",
   "metadata": {},
   "source": [
    "# THE pd.to_datetime() Method\n",
    "\n",
    "This will accept an input of a string or a list of strings or a python Date object or a python date time object and they can convert it to time stamp\n",
    "\n",
    "The pd.to_datetime() is functionable only  if we give accurate date and time format.\n",
    "\n",
    "In application this is used to convert pandas objects into Time stamps."
   ]
  },
  {
   "cell_type": "code",
   "execution_count": 90,
   "metadata": {},
   "outputs": [
    {
     "data": {
      "text/plain": [
       "DatetimeIndex(['2001-02-11', '2001-12-01', '2001-02-01', '2001-06-05'], dtype='datetime64[ns]', freq=None)"
      ]
     },
     "execution_count": 90,
     "metadata": {},
     "output_type": "execute_result"
    }
   ],
   "source": [
    "pd.to_datetime(\"2001-02-11\")\n",
    "pd.to_datetime(dt.date(2001, 2, 11))\n",
    "pd.to_datetime(dt.datetime(2001, 2, 11, 11, 11, 11))\n",
    "pd.to_datetime([\"2001-02-11\",\"2001-12-01\",\"2001-02-01\",\"June 5th, 2001\"])"
   ]
  },
  {
   "cell_type": "code",
   "execution_count": 92,
   "metadata": {},
   "outputs": [
    {
     "data": {
      "text/plain": [
       "0        2001-02-11\n",
       "1        2001-12-01\n",
       "2        2001-02-01\n",
       "3    June 5th, 2001\n",
       "dtype: object"
      ]
     },
     "execution_count": 92,
     "metadata": {},
     "output_type": "execute_result"
    }
   ],
   "source": [
    "times=pd.Series([\"2001-02-11\",\"2001-12-01\",\"2001-02-01\",\"June 5th, 2001\"])\n",
    "times"
   ]
  },
  {
   "cell_type": "code",
   "execution_count": 93,
   "metadata": {},
   "outputs": [
    {
     "data": {
      "text/plain": [
       "0   2001-02-11\n",
       "1   2001-12-01\n",
       "2   2001-02-01\n",
       "3   2001-06-05\n",
       "dtype: datetime64[ns]"
      ]
     },
     "execution_count": 93,
     "metadata": {},
     "output_type": "execute_result"
    }
   ],
   "source": [
    "pd.to_datetime(times)"
   ]
  },
  {
   "cell_type": "code",
   "execution_count": 96,
   "metadata": {},
   "outputs": [
    {
     "data": {
      "text/plain": [
       "0    July 5th, 1996\n",
       "1        10/04/1991\n",
       "2             Hello\n",
       "3        2015-02-31\n",
       "dtype: object"
      ]
     },
     "execution_count": 96,
     "metadata": {},
     "output_type": "execute_result"
    }
   ],
   "source": [
    "datess=pd.Series([\"July 5th, 1996\", \"10/04/1991\", \"Hello\", \"2015-02-31\"])\n",
    "datess\n",
    "#this makes any list as series."
   ]
  },
  {
   "cell_type": "code",
   "execution_count": 99,
   "metadata": {},
   "outputs": [
    {
     "data": {
      "text/plain": [
       "0   1996-07-05\n",
       "1   1991-10-04\n",
       "2          NaT\n",
       "3          NaT\n",
       "dtype: datetime64[ns]"
      ]
     },
     "execution_count": 99,
     "metadata": {},
     "output_type": "execute_result"
    }
   ],
   "source": [
    "#pd.to_datetime(datess) -->erroe becuasue no corrct date and time in all values of list.\n",
    "pd.to_datetime(datess, errors=\"coerce\")\n",
    "#this makes the errors values as the NAT values."
   ]
  },
  {
   "cell_type": "code",
   "execution_count": 103,
   "metadata": {},
   "outputs": [
    {
     "data": {
      "text/plain": [
       "DatetimeIndex(['1970-01-01 00:00:01.325698745',\n",
       "               '1970-01-01 00:00:01.325698755',\n",
       "               '1970-01-01 00:00:01.325698746',\n",
       "               '1970-01-01 00:00:01.325698747',\n",
       "               '1970-01-01 00:00:01.325698744'],\n",
       "              dtype='datetime64[ns]', freq=None)"
      ]
     },
     "execution_count": 103,
     "metadata": {},
     "output_type": "execute_result"
    }
   ],
   "source": [
    "pd.to_datetime([1325698745,1325698755,1325698746,1325698747,1325698744])\n",
    "# thsi counts from zero and gives the date and time(timestamp) at that particular given list of numbers."
   ]
  },
  {
   "cell_type": "markdown",
   "metadata": {},
   "source": [
    "# Create Range of dates with the pd.range() method,part-1\n",
    "\n",
    "This prints all the range of a dates from start to end  ,based on freq condition.\n",
    "\n",
    "This returns from starting to end dates as datetime index\n",
    "\n",
    "Here by start and end.\n",
    "\n",
    "Types of freq--->\n",
    "\n",
    "2. \"NH\"----> INTREVAL OF N HOURS\n",
    "3. \"ND\"--> INTREVAL OF N DAYS\n",
    "4.  \"B\"--> ALL BUSSINES DAYS IN BETWEEN START AND END.\n",
    "5. \"W\"-->  ALL WEEKEND  DAYS IN BETWEEN START AND END.\n",
    "6. \"W-DAY_NAME\"-->  ALL DATES WITH  THAT DAY_NAME, BETWEEN START AND END.\n",
    "7. \"M\"-->END DATE OF EACH MONTH IN BETWEEN START AND END.\n",
    "8. \"MS\"-->START DATE OF EACH MONTH IN  BETWEEN START AND END.\n",
    "9. \"A\"-->END DATE OF EACH YEAR IN  BETWEEN START AND END.\n",
    "10. \"AS\"-->>START DATE OF EACH YEAR IN  BETWEEN START AND END."
   ]
  },
  {
   "cell_type": "code",
   "execution_count": 6,
   "metadata": {},
   "outputs": [],
   "source": [
    "Time=pd.date_range(start=\"2016-01-01\"  ,end=\"2016-01-10\",freq=\"D\")\n",
    "#creates the datetime indexees from start to end by intreval (OR) incremented of freq"
   ]
  },
  {
   "cell_type": "code",
   "execution_count": 8,
   "metadata": {},
   "outputs": [
    {
     "data": {
      "text/plain": [
       "pandas.core.indexes.datetimes.DatetimeIndex"
      ]
     },
     "execution_count": 8,
     "metadata": {},
     "output_type": "execute_result"
    }
   ],
   "source": [
    "Time\n",
    "type(Time)"
   ]
  },
  {
   "cell_type": "code",
   "execution_count": 10,
   "metadata": {},
   "outputs": [
    {
     "data": {
      "text/plain": [
       "pandas._libs.tslibs.timestamps.Timestamp"
      ]
     },
     "execution_count": 10,
     "metadata": {},
     "output_type": "execute_result"
    }
   ],
   "source": [
    "type(Time[0])"
   ]
  },
  {
   "cell_type": "code",
   "execution_count": 17,
   "metadata": {},
   "outputs": [
    {
     "data": {
      "text/plain": [
       "DatetimeIndex(['2016-01-01', '2016-01-03', '2016-01-05', '2016-01-07',\n",
       "               '2016-01-09'],\n",
       "              dtype='datetime64[ns]', freq='2D')"
      ]
     },
     "execution_count": 17,
     "metadata": {},
     "output_type": "execute_result"
    }
   ],
   "source": [
    "pd.date_range(start=\"2016-01-01\"  ,end=\"2016-01-10\",freq=\"2D\")\n",
    "#intreval (OR) incremented by  is 2Days "
   ]
  },
  {
   "cell_type": "code",
   "execution_count": 18,
   "metadata": {},
   "outputs": [
    {
     "data": {
      "text/plain": [
       "DatetimeIndex(['2016-01-03', '2016-01-10'], dtype='datetime64[ns]', freq='W-SUN')"
      ]
     },
     "execution_count": 18,
     "metadata": {},
     "output_type": "execute_result"
    }
   ],
   "source": [
    "pd.date_range(start=\"2016-01-01\"  ,end=\"2016-01-10\",freq=\"W\")\n",
    "#RETURNS  only weekends ie, only sundays BETWEEN START AND END"
   ]
  },
  {
   "cell_type": "code",
   "execution_count": 19,
   "metadata": {},
   "outputs": [
    {
     "data": {
      "text/plain": [
       "DatetimeIndex(['2016-01-01', '2016-01-04', '2016-01-05', '2016-01-06',\n",
       "               '2016-01-07', '2016-01-08'],\n",
       "              dtype='datetime64[ns]', freq='B')"
      ]
     },
     "execution_count": 19,
     "metadata": {},
     "output_type": "execute_result"
    }
   ],
   "source": [
    "pd.date_range(start=\"2016-01-01\"  ,end=\"2016-01-10\",freq=\"b\")\n",
    "# RETURNS ALL BUSSINESS DAYS(MON-FRI)  IN BETWEEN START AND END DATES"
   ]
  },
  {
   "cell_type": "code",
   "execution_count": 23,
   "metadata": {},
   "outputs": [
    {
     "data": {
      "text/plain": [
       "DatetimeIndex(['2016-01-31', '2016-02-29', '2016-03-31', '2016-04-30',\n",
       "               '2016-05-31', '2016-06-30', '2016-07-31', '2016-08-31',\n",
       "               '2016-09-30', '2016-10-31', '2016-11-30', '2016-12-31'],\n",
       "              dtype='datetime64[ns]', freq='M')"
      ]
     },
     "execution_count": 23,
     "metadata": {},
     "output_type": "execute_result"
    }
   ],
   "source": [
    "pd.date_range(start=\"2016-01-01\"  ,end=\"2056-01-10\",freq=\"A\")\n",
    "pd.date_range(start=\"2016-01-01\"  ,end=\"2056-01-10\",freq=\"AS\")\n",
    "pd.date_range(start=\"2016-01-01\"  ,end=\"2016-12-31\",freq=\"M\")"
   ]
  },
  {
   "cell_type": "code",
   "execution_count": 25,
   "metadata": {},
   "outputs": [
    {
     "data": {
      "text/plain": [
       "DatetimeIndex(['2016-01-02', '2016-01-09', '2016-01-16', '2016-01-23',\n",
       "               '2016-01-30'],\n",
       "              dtype='datetime64[ns]', freq='W-SAT')"
      ]
     },
     "execution_count": 25,
     "metadata": {},
     "output_type": "execute_result"
    }
   ],
   "source": [
    "pd.date_range(start=\"2016-01-01\"  ,end=\"2016-01-31\",freq=\"W-SAT\")\n",
    "# only saturday's "
   ]
  },
  {
   "cell_type": "markdown",
   "metadata": {},
   "source": [
    "# Create Range of dates with the pd.range() method,part-2\n",
    "\n",
    "\n",
    "Here by start and period.\n",
    "\n",
    "This returns the number of the indexes, with the given period as datetime index i.e after the given date(start).\n",
    "\n",
    "And same freq condition holds as before"
   ]
  },
  {
   "cell_type": "code",
   "execution_count": 35,
   "metadata": {},
   "outputs": [
    {
     "data": {
      "text/plain": [
       "DatetimeIndex(['2012-09-09', '2012-09-10', '2012-09-11', '2012-09-12',\n",
       "               '2012-09-13', '2012-09-14', '2012-09-15', '2012-09-16',\n",
       "               '2012-09-17', '2012-09-18', '2012-09-19', '2012-09-20',\n",
       "               '2012-09-21', '2012-09-22', '2012-09-23', '2012-09-24',\n",
       "               '2012-09-25', '2012-09-26', '2012-09-27', '2012-09-28',\n",
       "               '2012-09-29', '2012-09-30', '2012-10-01', '2012-10-02',\n",
       "               '2012-10-03'],\n",
       "              dtype='datetime64[ns]', freq='D')"
      ]
     },
     "execution_count": 35,
     "metadata": {},
     "output_type": "execute_result"
    }
   ],
   "source": [
    "pd.date_range(start=\"2012-09-09\",periods=25, freq=\"D\")"
   ]
  },
  {
   "cell_type": "code",
   "execution_count": 36,
   "metadata": {},
   "outputs": [
    {
     "data": {
      "text/plain": [
       "DatetimeIndex(['2012-09-10', '2012-09-11', '2012-09-12', '2012-09-13',\n",
       "               '2012-09-14', '2012-09-17', '2012-09-18', '2012-09-19',\n",
       "               '2012-09-20', '2012-09-21', '2012-09-24', '2012-09-25',\n",
       "               '2012-09-26', '2012-09-27', '2012-09-28', '2012-10-01',\n",
       "               '2012-10-02', '2012-10-03', '2012-10-04', '2012-10-05',\n",
       "               '2012-10-08', '2012-10-09', '2012-10-10', '2012-10-11',\n",
       "               '2012-10-12'],\n",
       "              dtype='datetime64[ns]', freq='B')"
      ]
     },
     "execution_count": 36,
     "metadata": {},
     "output_type": "execute_result"
    }
   ],
   "source": [
    "pd.date_range(start=\"2012-09-09\",periods=25, freq=\"B\")"
   ]
  },
  {
   "cell_type": "code",
   "execution_count": 37,
   "metadata": {},
   "outputs": [
    {
     "data": {
      "text/plain": [
       "DatetimeIndex(['2012-09-09', '2012-09-16', '2012-09-23', '2012-09-30',\n",
       "               '2012-10-07', '2012-10-14', '2012-10-21', '2012-10-28',\n",
       "               '2012-11-04', '2012-11-11', '2012-11-18', '2012-11-25',\n",
       "               '2012-12-02', '2012-12-09', '2012-12-16', '2012-12-23',\n",
       "               '2012-12-30', '2013-01-06', '2013-01-13', '2013-01-20',\n",
       "               '2013-01-27', '2013-02-03', '2013-02-10', '2013-02-17',\n",
       "               '2013-02-24'],\n",
       "              dtype='datetime64[ns]', freq='W-SUN')"
      ]
     },
     "execution_count": 37,
     "metadata": {},
     "output_type": "execute_result"
    }
   ],
   "source": [
    "pd.date_range(start=\"2012-09-09\",periods=25, freq=\"W\")"
   ]
  },
  {
   "cell_type": "code",
   "execution_count": 38,
   "metadata": {},
   "outputs": [
    {
     "data": {
      "text/plain": [
       "DatetimeIndex(['2012-09-13', '2012-09-20', '2012-09-27', '2012-10-04',\n",
       "               '2012-10-11', '2012-10-18', '2012-10-25', '2012-11-01',\n",
       "               '2012-11-08', '2012-11-15', '2012-11-22', '2012-11-29',\n",
       "               '2012-12-06', '2012-12-13', '2012-12-20', '2012-12-27',\n",
       "               '2013-01-03', '2013-01-10', '2013-01-17', '2013-01-24',\n",
       "               '2013-01-31', '2013-02-07', '2013-02-14', '2013-02-21',\n",
       "               '2013-02-28'],\n",
       "              dtype='datetime64[ns]', freq='W-THU')"
      ]
     },
     "execution_count": 38,
     "metadata": {},
     "output_type": "execute_result"
    }
   ],
   "source": [
    "pd.date_range(start=\"2012-09-09\",periods=25, freq=\"W-THU\")"
   ]
  },
  {
   "cell_type": "code",
   "execution_count": 39,
   "metadata": {},
   "outputs": [
    {
     "data": {
      "text/plain": [
       "DatetimeIndex(['2012-09-30', '2012-10-31', '2012-11-30', '2012-12-31',\n",
       "               '2013-01-31', '2013-02-28', '2013-03-31', '2013-04-30',\n",
       "               '2013-05-31', '2013-06-30', '2013-07-31', '2013-08-31',\n",
       "               '2013-09-30', '2013-10-31', '2013-11-30', '2013-12-31',\n",
       "               '2014-01-31', '2014-02-28', '2014-03-31', '2014-04-30',\n",
       "               '2014-05-31', '2014-06-30', '2014-07-31', '2014-08-31',\n",
       "               '2014-09-30'],\n",
       "              dtype='datetime64[ns]', freq='M')"
      ]
     },
     "execution_count": 39,
     "metadata": {},
     "output_type": "execute_result"
    }
   ],
   "source": [
    "pd.date_range(start=\"2012-09-09\",periods=25, freq=\"M\")"
   ]
  },
  {
   "cell_type": "code",
   "execution_count": 40,
   "metadata": {},
   "outputs": [
    {
     "data": {
      "text/plain": [
       "DatetimeIndex(['2012-12-31', '2013-12-31', '2014-12-31', '2015-12-31',\n",
       "               '2016-12-31', '2017-12-31', '2018-12-31', '2019-12-31',\n",
       "               '2020-12-31', '2021-12-31', '2022-12-31', '2023-12-31',\n",
       "               '2024-12-31', '2025-12-31', '2026-12-31', '2027-12-31',\n",
       "               '2028-12-31', '2029-12-31', '2030-12-31', '2031-12-31',\n",
       "               '2032-12-31', '2033-12-31', '2034-12-31', '2035-12-31',\n",
       "               '2036-12-31'],\n",
       "              dtype='datetime64[ns]', freq='A-DEC')"
      ]
     },
     "execution_count": 40,
     "metadata": {},
     "output_type": "execute_result"
    }
   ],
   "source": [
    "pd.date_range(start=\"2012-09-09\",periods=25, freq=\"A\")"
   ]
  },
  {
   "cell_type": "code",
   "execution_count": 41,
   "metadata": {},
   "outputs": [
    {
     "data": {
      "text/plain": [
       "DatetimeIndex(['2012-09-09 00:00:00', '2012-09-09 01:00:00',\n",
       "               '2012-09-09 02:00:00', '2012-09-09 03:00:00',\n",
       "               '2012-09-09 04:00:00', '2012-09-09 05:00:00',\n",
       "               '2012-09-09 06:00:00', '2012-09-09 07:00:00',\n",
       "               '2012-09-09 08:00:00', '2012-09-09 09:00:00',\n",
       "               '2012-09-09 10:00:00', '2012-09-09 11:00:00',\n",
       "               '2012-09-09 12:00:00', '2012-09-09 13:00:00',\n",
       "               '2012-09-09 14:00:00', '2012-09-09 15:00:00',\n",
       "               '2012-09-09 16:00:00', '2012-09-09 17:00:00',\n",
       "               '2012-09-09 18:00:00', '2012-09-09 19:00:00',\n",
       "               '2012-09-09 20:00:00', '2012-09-09 21:00:00',\n",
       "               '2012-09-09 22:00:00', '2012-09-09 23:00:00',\n",
       "               '2012-09-10 00:00:00', '2012-09-10 01:00:00',\n",
       "               '2012-09-10 02:00:00', '2012-09-10 03:00:00',\n",
       "               '2012-09-10 04:00:00', '2012-09-10 05:00:00',\n",
       "               '2012-09-10 06:00:00', '2012-09-10 07:00:00',\n",
       "               '2012-09-10 08:00:00', '2012-09-10 09:00:00',\n",
       "               '2012-09-10 10:00:00', '2012-09-10 11:00:00',\n",
       "               '2012-09-10 12:00:00', '2012-09-10 13:00:00',\n",
       "               '2012-09-10 14:00:00', '2012-09-10 15:00:00',\n",
       "               '2012-09-10 16:00:00', '2012-09-10 17:00:00',\n",
       "               '2012-09-10 18:00:00', '2012-09-10 19:00:00',\n",
       "               '2012-09-10 20:00:00', '2012-09-10 21:00:00',\n",
       "               '2012-09-10 22:00:00', '2012-09-10 23:00:00',\n",
       "               '2012-09-11 00:00:00', '2012-09-11 01:00:00'],\n",
       "              dtype='datetime64[ns]', freq='H')"
      ]
     },
     "execution_count": 41,
     "metadata": {},
     "output_type": "execute_result"
    }
   ],
   "source": [
    "pd.date_range(start=\"2012-09-09\",periods=50, freq=\"H\")"
   ]
  },
  {
   "cell_type": "markdown",
   "metadata": {},
   "source": [
    "# Create Range of dates with the pd.range() method,part-3\n",
    "\n",
    "Here by end and period.\n",
    "\n",
    "This returns the number of the indexes, with the given period as datetime index by end i.e before the given date(end).\n",
    "\n",
    "And same freq condition holds as before"
   ]
  },
  {
   "cell_type": "code",
   "execution_count": 42,
   "metadata": {},
   "outputs": [
    {
     "data": {
      "text/plain": [
       "DatetimeIndex(['1998-05-31', '1998-06-30', '1998-07-31', '1998-08-31',\n",
       "               '1998-09-30', '1998-10-31', '1998-11-30', '1998-12-31',\n",
       "               '1999-01-31', '1999-02-28', '1999-03-31', '1999-04-30',\n",
       "               '1999-05-31', '1999-06-30', '1999-07-31', '1999-08-31',\n",
       "               '1999-09-30', '1999-10-31', '1999-11-30', '1999-12-31'],\n",
       "              dtype='datetime64[ns]', freq='M')"
      ]
     },
     "execution_count": 42,
     "metadata": {},
     "output_type": "execute_result"
    }
   ],
   "source": [
    "pd.date_range(end=\"1999-12-31\", periods=20,freq=\"M\")"
   ]
  },
  {
   "cell_type": "code",
   "execution_count": 45,
   "metadata": {},
   "outputs": [
    {
     "data": {
      "text/plain": [
       "DatetimeIndex(['1999-12-30 05:00:00', '1999-12-30 06:00:00',\n",
       "               '1999-12-30 07:00:00', '1999-12-30 08:00:00',\n",
       "               '1999-12-30 09:00:00', '1999-12-30 10:00:00',\n",
       "               '1999-12-30 11:00:00', '1999-12-30 12:00:00',\n",
       "               '1999-12-30 13:00:00', '1999-12-30 14:00:00',\n",
       "               '1999-12-30 15:00:00', '1999-12-30 16:00:00',\n",
       "               '1999-12-30 17:00:00', '1999-12-30 18:00:00',\n",
       "               '1999-12-30 19:00:00', '1999-12-30 20:00:00',\n",
       "               '1999-12-30 21:00:00', '1999-12-30 22:00:00',\n",
       "               '1999-12-30 23:00:00', '1999-12-31 00:00:00'],\n",
       "              dtype='datetime64[ns]', freq='H')"
      ]
     },
     "execution_count": 45,
     "metadata": {},
     "output_type": "execute_result"
    }
   ],
   "source": [
    "pd.date_range(end=\"1999-12-31\", periods=20,freq=\"H\")"
   ]
  },
  {
   "cell_type": "code",
   "execution_count": 44,
   "metadata": {},
   "outputs": [
    {
     "data": {
      "text/plain": [
       "DatetimeIndex(['1999-08-15', '1999-08-22', '1999-08-29', '1999-09-05',\n",
       "               '1999-09-12', '1999-09-19', '1999-09-26', '1999-10-03',\n",
       "               '1999-10-10', '1999-10-17', '1999-10-24', '1999-10-31',\n",
       "               '1999-11-07', '1999-11-14', '1999-11-21', '1999-11-28',\n",
       "               '1999-12-05', '1999-12-12', '1999-12-19', '1999-12-26'],\n",
       "              dtype='datetime64[ns]', freq='W-SUN')"
      ]
     },
     "execution_count": 44,
     "metadata": {},
     "output_type": "execute_result"
    }
   ],
   "source": [
    "pd.date_range(end=\"1999-12-31\", periods=20,freq=\"W-SUN\")"
   ]
  },
  {
   "cell_type": "code",
   "execution_count": 43,
   "metadata": {},
   "outputs": [
    {
     "data": {
      "text/plain": [
       "DatetimeIndex(['1999-12-12', '1999-12-13', '1999-12-14', '1999-12-15',\n",
       "               '1999-12-16', '1999-12-17', '1999-12-18', '1999-12-19',\n",
       "               '1999-12-20', '1999-12-21', '1999-12-22', '1999-12-23',\n",
       "               '1999-12-24', '1999-12-25', '1999-12-26', '1999-12-27',\n",
       "               '1999-12-28', '1999-12-29', '1999-12-30', '1999-12-31'],\n",
       "              dtype='datetime64[ns]', freq='D')"
      ]
     },
     "execution_count": 43,
     "metadata": {},
     "output_type": "execute_result"
    }
   ],
   "source": [
    "pd.date_range(end=\"1999-12-31\", periods=20,freq=\"D\")"
   ]
  },
  {
   "cell_type": "code",
   "execution_count": 46,
   "metadata": {},
   "outputs": [
    {
     "data": {
      "text/plain": [
       "DatetimeIndex(['1999-12-06', '1999-12-07', '1999-12-08', '1999-12-09',\n",
       "               '1999-12-10', '1999-12-13', '1999-12-14', '1999-12-15',\n",
       "               '1999-12-16', '1999-12-17', '1999-12-20', '1999-12-21',\n",
       "               '1999-12-22', '1999-12-23', '1999-12-24', '1999-12-27',\n",
       "               '1999-12-28', '1999-12-29', '1999-12-30', '1999-12-31'],\n",
       "              dtype='datetime64[ns]', freq='B')"
      ]
     },
     "execution_count": 46,
     "metadata": {},
     "output_type": "execute_result"
    }
   ],
   "source": [
    "pd.date_range(end=\"1999-12-31\", periods=20,freq=\"b\")"
   ]
  },
  {
   "cell_type": "code",
   "execution_count": 47,
   "metadata": {},
   "outputs": [
    {
     "data": {
      "text/plain": [
       "DatetimeIndex(['1995-11-01', '1995-12-01', '1996-01-01', '1996-02-01',\n",
       "               '1996-03-01', '1996-04-01', '1996-05-01', '1996-06-01',\n",
       "               '1996-07-01', '1996-08-01', '1996-09-01', '1996-10-01',\n",
       "               '1996-11-01', '1996-12-01', '1997-01-01', '1997-02-01',\n",
       "               '1997-03-01', '1997-04-01', '1997-05-01', '1997-06-01',\n",
       "               '1997-07-01', '1997-08-01', '1997-09-01', '1997-10-01',\n",
       "               '1997-11-01', '1997-12-01', '1998-01-01', '1998-02-01',\n",
       "               '1998-03-01', '1998-04-01', '1998-05-01', '1998-06-01',\n",
       "               '1998-07-01', '1998-08-01', '1998-09-01', '1998-10-01',\n",
       "               '1998-11-01', '1998-12-01', '1999-01-01', '1999-02-01',\n",
       "               '1999-03-01', '1999-04-01', '1999-05-01', '1999-06-01',\n",
       "               '1999-07-01', '1999-08-01', '1999-09-01', '1999-10-01',\n",
       "               '1999-11-01', '1999-12-01'],\n",
       "              dtype='datetime64[ns]', freq='MS')"
      ]
     },
     "execution_count": 47,
     "metadata": {},
     "output_type": "execute_result"
    }
   ],
   "source": [
    "pd.date_range(end=\"1999-12-31\", periods=50,freq=\"MS\")"
   ]
  },
  {
   "cell_type": "code",
   "execution_count": 48,
   "metadata": {},
   "outputs": [
    {
     "data": {
      "text/plain": [
       "DatetimeIndex(['1950-01-01', '1951-01-01', '1952-01-01', '1953-01-01',\n",
       "               '1954-01-01', '1955-01-01', '1956-01-01', '1957-01-01',\n",
       "               '1958-01-01', '1959-01-01', '1960-01-01', '1961-01-01',\n",
       "               '1962-01-01', '1963-01-01', '1964-01-01', '1965-01-01',\n",
       "               '1966-01-01', '1967-01-01', '1968-01-01', '1969-01-01',\n",
       "               '1970-01-01', '1971-01-01', '1972-01-01', '1973-01-01',\n",
       "               '1974-01-01', '1975-01-01', '1976-01-01', '1977-01-01',\n",
       "               '1978-01-01', '1979-01-01', '1980-01-01', '1981-01-01',\n",
       "               '1982-01-01', '1983-01-01', '1984-01-01', '1985-01-01',\n",
       "               '1986-01-01', '1987-01-01', '1988-01-01', '1989-01-01',\n",
       "               '1990-01-01', '1991-01-01', '1992-01-01', '1993-01-01',\n",
       "               '1994-01-01', '1995-01-01', '1996-01-01', '1997-01-01',\n",
       "               '1998-01-01', '1999-01-01'],\n",
       "              dtype='datetime64[ns]', freq='AS-JAN')"
      ]
     },
     "execution_count": 48,
     "metadata": {},
     "output_type": "execute_result"
    }
   ],
   "source": [
    "pd.date_range(end=\"1999-12-31\", periods=50,freq=\"AS\")"
   ]
  },
  {
   "cell_type": "code",
   "execution_count": 50,
   "metadata": {},
   "outputs": [
    {
     "data": {
      "text/plain": [
       "DatetimeIndex(['1979-07-31', '1979-12-31', '1980-05-31', '1980-10-31',\n",
       "               '1981-03-31', '1981-08-31', '1982-01-31', '1982-06-30',\n",
       "               '1982-11-30', '1983-04-30', '1983-09-30', '1984-02-29',\n",
       "               '1984-07-31', '1984-12-31', '1985-05-31', '1985-10-31',\n",
       "               '1986-03-31', '1986-08-31', '1987-01-31', '1987-06-30',\n",
       "               '1987-11-30', '1988-04-30', '1988-09-30', '1989-02-28',\n",
       "               '1989-07-31', '1989-12-31', '1990-05-31', '1990-10-31',\n",
       "               '1991-03-31', '1991-08-31', '1992-01-31', '1992-06-30',\n",
       "               '1992-11-30', '1993-04-30', '1993-09-30', '1994-02-28',\n",
       "               '1994-07-31', '1994-12-31', '1995-05-31', '1995-10-31',\n",
       "               '1996-03-31', '1996-08-31', '1997-01-31', '1997-06-30',\n",
       "               '1997-11-30', '1998-04-30', '1998-09-30', '1999-02-28',\n",
       "               '1999-07-31', '1999-12-31'],\n",
       "              dtype='datetime64[ns]', freq='5M')"
      ]
     },
     "execution_count": 50,
     "metadata": {},
     "output_type": "execute_result"
    }
   ],
   "source": [
    "pd.date_range(end=\"1999-12-31\", periods=50,freq=\"5M\")"
   ]
  },
  {
   "cell_type": "markdown",
   "metadata": {},
   "source": [
    "# The .dt Accessor\n",
    "\n",
    "\n",
    "Same as .str() when we are working in text.\n",
    "\n",
    "If we want to get the attribute on dataseries for datetime we use this functions.\n",
    "\n",
    "If we want to perform any opearations in the series we use the .dt type attributer."
   ]
  },
  {
   "cell_type": "code",
   "execution_count": 72,
   "metadata": {},
   "outputs": [],
   "source": [
    "dunch_of_Dates=pd.date_range(start=\"2000-01-01\",end=\"2010-12-31\",freq=\"31D\")"
   ]
  },
  {
   "cell_type": "code",
   "execution_count": 73,
   "metadata": {},
   "outputs": [
    {
     "data": {
      "text/plain": [
       "0   2000-01-01\n",
       "1   2000-02-01\n",
       "2   2000-03-03\n",
       "dtype: datetime64[ns]"
      ]
     },
     "execution_count": 73,
     "metadata": {},
     "output_type": "execute_result"
    }
   ],
   "source": [
    "s=pd.Series(dunch_of_Dates)\n",
    "s.head(3)"
   ]
  },
  {
   "cell_type": "code",
   "execution_count": 74,
   "metadata": {
    "collapsed": true
   },
   "outputs": [
    {
     "data": {
      "text/plain": [
       "0       1\n",
       "1       2\n",
       "2       3\n",
       "3       4\n",
       "4       5\n",
       "5       6\n",
       "6       7\n",
       "7       8\n",
       "8       9\n",
       "9      10\n",
       "10     11\n",
       "11     12\n",
       "12      1\n",
       "13      2\n",
       "14      3\n",
       "15      4\n",
       "16      5\n",
       "17      6\n",
       "18      7\n",
       "19      8\n",
       "20      9\n",
       "21     10\n",
       "22     11\n",
       "23     12\n",
       "24      1\n",
       "25      2\n",
       "26      3\n",
       "27      4\n",
       "28      5\n",
       "29      6\n",
       "       ..\n",
       "100     6\n",
       "101     7\n",
       "102     8\n",
       "103     9\n",
       "104    10\n",
       "105    11\n",
       "106    12\n",
       "107     1\n",
       "108     3\n",
       "109     4\n",
       "110     5\n",
       "111     6\n",
       "112     7\n",
       "113     8\n",
       "114     9\n",
       "115    10\n",
       "116    11\n",
       "117    12\n",
       "118     1\n",
       "119     2\n",
       "120     3\n",
       "121     4\n",
       "122     5\n",
       "123     6\n",
       "124     7\n",
       "125     8\n",
       "126     9\n",
       "127    10\n",
       "128    11\n",
       "129    12\n",
       "Length: 130, dtype: int64"
      ]
     },
     "execution_count": 74,
     "metadata": {},
     "output_type": "execute_result"
    }
   ],
   "source": [
    "s.dt.month\n",
    "#returns the  number of the particular month of the given  values  in series."
   ]
  },
  {
   "cell_type": "code",
   "execution_count": 75,
   "metadata": {
    "collapsed": true
   },
   "outputs": [
    {
     "data": {
      "text/plain": [
       "0      2000\n",
       "1      2000\n",
       "2      2000\n",
       "3      2000\n",
       "4      2000\n",
       "5      2000\n",
       "6      2000\n",
       "7      2000\n",
       "8      2000\n",
       "9      2000\n",
       "10     2000\n",
       "11     2000\n",
       "12     2001\n",
       "13     2001\n",
       "14     2001\n",
       "15     2001\n",
       "16     2001\n",
       "17     2001\n",
       "18     2001\n",
       "19     2001\n",
       "20     2001\n",
       "21     2001\n",
       "22     2001\n",
       "23     2001\n",
       "24     2002\n",
       "25     2002\n",
       "26     2002\n",
       "27     2002\n",
       "28     2002\n",
       "29     2002\n",
       "       ... \n",
       "100    2008\n",
       "101    2008\n",
       "102    2008\n",
       "103    2008\n",
       "104    2008\n",
       "105    2008\n",
       "106    2008\n",
       "107    2009\n",
       "108    2009\n",
       "109    2009\n",
       "110    2009\n",
       "111    2009\n",
       "112    2009\n",
       "113    2009\n",
       "114    2009\n",
       "115    2009\n",
       "116    2009\n",
       "117    2009\n",
       "118    2010\n",
       "119    2010\n",
       "120    2010\n",
       "121    2010\n",
       "122    2010\n",
       "123    2010\n",
       "124    2010\n",
       "125    2010\n",
       "126    2010\n",
       "127    2010\n",
       "128    2010\n",
       "129    2010\n",
       "Length: 130, dtype: int64"
      ]
     },
     "execution_count": 75,
     "metadata": {},
     "output_type": "execute_result"
    }
   ],
   "source": [
    "s.dt.year\n",
    "#returns the  number of the particular yearof the given  values  in series."
   ]
  },
  {
   "cell_type": "code",
   "execution_count": 76,
   "metadata": {
    "collapsed": true
   },
   "outputs": [
    {
     "data": {
      "text/plain": [
       "0       Saturday\n",
       "1        Tuesday\n",
       "2         Friday\n",
       "3         Monday\n",
       "4       Thursday\n",
       "5         Sunday\n",
       "6      Wednesday\n",
       "7       Saturday\n",
       "8        Tuesday\n",
       "9         Friday\n",
       "10        Monday\n",
       "11      Thursday\n",
       "12        Sunday\n",
       "13     Wednesday\n",
       "14      Saturday\n",
       "15       Tuesday\n",
       "16        Friday\n",
       "17        Monday\n",
       "18      Thursday\n",
       "19        Sunday\n",
       "20     Wednesday\n",
       "21      Saturday\n",
       "22       Tuesday\n",
       "23        Friday\n",
       "24        Monday\n",
       "25      Thursday\n",
       "26        Sunday\n",
       "27     Wednesday\n",
       "28      Saturday\n",
       "29       Tuesday\n",
       "         ...    \n",
       "100       Friday\n",
       "101       Monday\n",
       "102     Thursday\n",
       "103       Sunday\n",
       "104    Wednesday\n",
       "105     Saturday\n",
       "106      Tuesday\n",
       "107       Friday\n",
       "108       Monday\n",
       "109     Thursday\n",
       "110       Sunday\n",
       "111    Wednesday\n",
       "112     Saturday\n",
       "113      Tuesday\n",
       "114       Friday\n",
       "115       Monday\n",
       "116     Thursday\n",
       "117       Sunday\n",
       "118    Wednesday\n",
       "119     Saturday\n",
       "120      Tuesday\n",
       "121       Friday\n",
       "122       Monday\n",
       "123     Thursday\n",
       "124       Sunday\n",
       "125    Wednesday\n",
       "126     Saturday\n",
       "127      Tuesday\n",
       "128       Friday\n",
       "129       Monday\n",
       "Length: 130, dtype: object"
      ]
     },
     "execution_count": 76,
     "metadata": {},
     "output_type": "execute_result"
    }
   ],
   "source": [
    "s.dt.weekday_name\n",
    "#returns the  number of the particular Weekday_name of the given  values  in series."
   ]
  },
  {
   "cell_type": "code",
   "execution_count": 80,
   "metadata": {},
   "outputs": [],
   "source": [
    "bunch_of_Dates=pd.date_range(start=\"2000-01-01\",end=\"2010-12-31\",freq=\"31D\")"
   ]
  },
  {
   "cell_type": "code",
   "execution_count": 81,
   "metadata": {
    "collapsed": true
   },
   "outputs": [
    {
     "data": {
      "text/plain": [
       "0   2000-01-01\n",
       "1   2000-02-01\n",
       "2   2000-03-03\n",
       "dtype: datetime64[ns]"
      ]
     },
     "execution_count": 81,
     "metadata": {},
     "output_type": "execute_result"
    }
   ],
   "source": [
    "s1=pd.Series(bunch_of_Dates)\n",
    "s1.head(3)"
   ]
  },
  {
   "cell_type": "code",
   "execution_count": 78,
   "metadata": {
    "collapsed": true
   },
   "outputs": [
    {
     "ename": "NameError",
     "evalue": "name 's1' is not defined",
     "output_type": "error",
     "traceback": [
      "\u001b[1;31m---------------------------------------------------------------------------\u001b[0m",
      "\u001b[1;31mNameError\u001b[0m                                 Traceback (most recent call last)",
      "\u001b[1;32m<ipython-input-78-481dc5386d39>\u001b[0m in \u001b[0;36m<module>\u001b[1;34m\u001b[0m\n\u001b[1;32m----> 1\u001b[1;33m \u001b[0mmask\u001b[0m\u001b[1;33m=\u001b[0m\u001b[0ms1\u001b[0m\u001b[1;33m.\u001b[0m\u001b[0mdt\u001b[0m\u001b[1;33m.\u001b[0m\u001b[0mis_month_end\u001b[0m\u001b[1;33m\u001b[0m\u001b[0m\n\u001b[0m\u001b[0;32m      2\u001b[0m \u001b[0mmask\u001b[0m\u001b[1;33m\u001b[0m\u001b[0m\n",
      "\u001b[1;31mNameError\u001b[0m: name 's1' is not defined"
     ]
    }
   ],
   "source": [
    "mask=s1.dt.is_month_end\n",
    "mask"
   ]
  },
  {
   "cell_type": "code",
   "execution_count": 84,
   "metadata": {},
   "outputs": [
    {
     "data": {
      "text/plain": [
       "0    2000-01-01\n",
       "53   2004-07-01\n",
       "dtype: datetime64[ns]"
      ]
     },
     "execution_count": 84,
     "metadata": {},
     "output_type": "execute_result"
    }
   ],
   "source": [
    "mask=s1.dt.is_quarter_start\n",
    "# true if that date falls on start of the quater \n",
    "s1[mask]"
   ]
  },
  {
   "cell_type": "code",
   "execution_count": 85,
   "metadata": {
    "collapsed": true
   },
   "outputs": [
    {
     "data": {
      "text/plain": [
       "0    2000-01-01\n",
       "1    2000-02-01\n",
       "53   2004-07-01\n",
       "54   2004-08-01\n",
       "55   2004-09-01\n",
       "dtype: datetime64[ns]"
      ]
     },
     "execution_count": 85,
     "metadata": {},
     "output_type": "execute_result"
    }
   ],
   "source": [
    "mask=s1.dt.is_month_start\n",
    "# true if that date falls on start of the month \n",
    "s1[mask]"
   ]
  },
  {
   "cell_type": "code",
   "execution_count": 86,
   "metadata": {},
   "outputs": [
    {
     "data": {
      "text/plain": [
       "51   2004-04-30\n",
       "52   2004-05-31\n",
       "dtype: datetime64[ns]"
      ]
     },
     "execution_count": 86,
     "metadata": {},
     "output_type": "execute_result"
    }
   ],
   "source": [
    "mask=s1.dt.is_month_end\n",
    "# true if that date falls on end of the month \n",
    "s1[mask]"
   ]
  },
  {
   "cell_type": "markdown",
   "metadata": {},
   "source": [
    "# Import Financial Data Set with pandas_datareader Library\n",
    "\n",
    "\n",
    "This is use full to work with the raeal time data sets avvailable in web and perform operations.\n",
    "\n",
    "This observers the data set from the internate by datareader() method.\n",
    "\n",
    "Here we call each rows as the \"TRADE\".\n",
    "\n",
    "syntax-->data.DataReader(name, data_source=None, start=None, end=None, retry_count=3, pause=0.1, session=None, access_key=None)\n",
    "\n",
    "name-->name of company, datasource---> this is the source of financial data blocks that are in the internet.\n",
    "\n",
    "Types of datasource, at present \"iex\" is used.\n",
    "1. google.-->(not available today)\n",
    "2. iex.\n",
    "3. Alpha Vantage..-->(not available today)\n",
    "4. Quandl..-->(needs subscription)\n",
    "\n",
    "This takes the dataset stocks, (i.e stockmarket name of the company) from the internet and perform the required operations as we like by using the datareader function.\n",
    "\n",
    "THis returns the set of columns as the open,high,close,low,volume,\n",
    "\n",
    "1. open-->So we have the open which is the price when the stock opened at the beginning of the day.\n",
    "2. close-->We have the price when it closed at end of day.\n",
    "3. high-->We have its high point throughout the day and which is the maximum that it reached price for that day..\n",
    "4. low-->We have its low point throughout the day and which is the maximum that it reached price for that day..\n",
    "5. volume--> volume is  the number of stocks that were traded that day for that company."
   ]
  },
  {
   "cell_type": "code",
   "execution_count": 4,
   "metadata": {},
   "outputs": [
    {
     "ename": "ModuleNotFoundError",
     "evalue": "No module named 'pandas_datareader'",
     "output_type": "error",
     "traceback": [
      "\u001b[1;31m---------------------------------------------------------------------------\u001b[0m",
      "\u001b[1;31mModuleNotFoundError\u001b[0m                       Traceback (most recent call last)",
      "\u001b[1;32m<ipython-input-4-c471ce367d96>\u001b[0m in \u001b[0;36m<module>\u001b[1;34m()\u001b[0m\n\u001b[1;32m----> 1\u001b[1;33m \u001b[1;32mfrom\u001b[0m \u001b[0mpandas_datareader\u001b[0m \u001b[1;32mimport\u001b[0m \u001b[0mdata\u001b[0m\u001b[1;33m\u001b[0m\u001b[0m\n\u001b[0m",
      "\u001b[1;31mModuleNotFoundError\u001b[0m: No module named 'pandas_datareader'"
     ]
    }
   ],
   "source": [
    "from pandas_datareader import data"
   ]
  },
  {
   "cell_type": "code",
   "execution_count": 5,
   "metadata": {},
   "outputs": [
    {
     "ename": "NameError",
     "evalue": "name 'data' is not defined",
     "output_type": "error",
     "traceback": [
      "\u001b[1;31m---------------------------------------------------------------------------\u001b[0m",
      "\u001b[1;31mNameError\u001b[0m                                 Traceback (most recent call last)",
      "\u001b[1;32m<ipython-input-5-e4b11b8efc7b>\u001b[0m in \u001b[0;36m<module>\u001b[1;34m()\u001b[0m\n\u001b[0;32m      2\u001b[0m \u001b[0mstart\u001b[0m\u001b[1;33m=\u001b[0m\u001b[1;34m\"2013-01-01\"\u001b[0m\u001b[1;33m\u001b[0m\u001b[0m\n\u001b[0;32m      3\u001b[0m \u001b[0mend\u001b[0m\u001b[1;33m=\u001b[0m\u001b[1;34m\"2017-12-31\"\u001b[0m\u001b[1;33m\u001b[0m\u001b[0m\n\u001b[1;32m----> 4\u001b[1;33m \u001b[0mgoogl\u001b[0m\u001b[1;33m=\u001b[0m\u001b[0mdata\u001b[0m\u001b[1;33m.\u001b[0m\u001b[0mDataReader\u001b[0m\u001b[1;33m(\u001b[0m\u001b[0mname\u001b[0m\u001b[1;33m=\u001b[0m\u001b[0mcompany\u001b[0m\u001b[1;33m,\u001b[0m \u001b[0mdata_source\u001b[0m\u001b[1;33m=\u001b[0m\u001b[1;34m\"iex\"\u001b[0m\u001b[1;33m,\u001b[0m \u001b[0mstart\u001b[0m\u001b[1;33m=\u001b[0m\u001b[0mstart\u001b[0m\u001b[1;33m,\u001b[0m \u001b[0mend\u001b[0m\u001b[1;33m=\u001b[0m\u001b[0mend\u001b[0m\u001b[1;33m)\u001b[0m\u001b[1;33m\u001b[0m\u001b[0m\n\u001b[0m\u001b[0;32m      5\u001b[0m \u001b[0mgoogl\u001b[0m\u001b[1;33m.\u001b[0m\u001b[0mhead\u001b[0m\u001b[1;33m(\u001b[0m\u001b[1;33m)\u001b[0m\u001b[1;33m\u001b[0m\u001b[0m\n",
      "\u001b[1;31mNameError\u001b[0m: name 'data' is not defined"
     ]
    }
   ],
   "source": [
    "company=\"GOOGL\" #googles financial data set.\n",
    "start=\"2013-01-01\"\n",
    "end=\"2017-12-31\"\n",
    "googl=data.DataReader(name=company, data_source=\"iex\", start=start, end=end)\n",
    "googl.head()"
   ]
  },
  {
   "cell_type": "code",
   "execution_count": 54,
   "metadata": {},
   "outputs": [
    {
     "data": {
      "text/plain": [
       "'2013-11-22'"
      ]
     },
     "execution_count": 54,
     "metadata": {},
     "output_type": "execute_result"
    }
   ],
   "source": [
    "googl.values\n",
    "googl.columns\n",
    "googl.index\n",
    "googl.index[0]"
   ]
  },
  {
   "cell_type": "code",
   "execution_count": 46,
   "metadata": {
    "collapsed": true
   },
   "outputs": [
    {
     "data": {
      "text/html": [
       "<div>\n",
       "<style scoped>\n",
       "    .dataframe tbody tr th:only-of-type {\n",
       "        vertical-align: middle;\n",
       "    }\n",
       "\n",
       "    .dataframe tbody tr th {\n",
       "        vertical-align: top;\n",
       "    }\n",
       "\n",
       "    .dataframe thead tr th {\n",
       "        text-align: left;\n",
       "    }\n",
       "\n",
       "    .dataframe thead tr:last-of-type th {\n",
       "        text-align: right;\n",
       "    }\n",
       "</style>\n",
       "<table border=\"1\" class=\"dataframe\">\n",
       "  <thead>\n",
       "    <tr>\n",
       "      <th>Attributes</th>\n",
       "      <th colspan=\"2\" halign=\"left\">open</th>\n",
       "      <th colspan=\"2\" halign=\"left\">high</th>\n",
       "      <th colspan=\"2\" halign=\"left\">low</th>\n",
       "      <th colspan=\"2\" halign=\"left\">close</th>\n",
       "      <th colspan=\"2\" halign=\"left\">volume</th>\n",
       "    </tr>\n",
       "    <tr>\n",
       "      <th>Symbols</th>\n",
       "      <th>INFY</th>\n",
       "      <th>TCS</th>\n",
       "      <th>INFY</th>\n",
       "      <th>TCS</th>\n",
       "      <th>INFY</th>\n",
       "      <th>TCS</th>\n",
       "      <th>INFY</th>\n",
       "      <th>TCS</th>\n",
       "      <th>INFY</th>\n",
       "      <th>TCS</th>\n",
       "    </tr>\n",
       "    <tr>\n",
       "      <th>date</th>\n",
       "      <th></th>\n",
       "      <th></th>\n",
       "      <th></th>\n",
       "      <th></th>\n",
       "      <th></th>\n",
       "      <th></th>\n",
       "      <th></th>\n",
       "      <th></th>\n",
       "      <th></th>\n",
       "      <th></th>\n",
       "    </tr>\n",
       "  </thead>\n",
       "  <tbody>\n",
       "    <tr>\n",
       "      <th>2013-11-22</th>\n",
       "      <td>5.8853</td>\n",
       "      <td>35.60</td>\n",
       "      <td>5.9325</td>\n",
       "      <td>37.598</td>\n",
       "      <td>5.8666</td>\n",
       "      <td>35.27</td>\n",
       "      <td>5.9215</td>\n",
       "      <td>37.36</td>\n",
       "      <td>6069736</td>\n",
       "      <td>434786</td>\n",
       "    </tr>\n",
       "    <tr>\n",
       "      <th>2013-11-25</th>\n",
       "      <td>5.8919</td>\n",
       "      <td>37.99</td>\n",
       "      <td>5.8919</td>\n",
       "      <td>39.000</td>\n",
       "      <td>5.8403</td>\n",
       "      <td>37.76</td>\n",
       "      <td>5.8458</td>\n",
       "      <td>38.20</td>\n",
       "      <td>8267448</td>\n",
       "      <td>370850</td>\n",
       "    </tr>\n",
       "    <tr>\n",
       "      <th>2013-11-26</th>\n",
       "      <td>5.8458</td>\n",
       "      <td>39.10</td>\n",
       "      <td>5.9150</td>\n",
       "      <td>40.300</td>\n",
       "      <td>5.8018</td>\n",
       "      <td>38.71</td>\n",
       "      <td>5.8853</td>\n",
       "      <td>40.06</td>\n",
       "      <td>7948592</td>\n",
       "      <td>789901</td>\n",
       "    </tr>\n",
       "    <tr>\n",
       "      <th>2013-11-27</th>\n",
       "      <td>5.8469</td>\n",
       "      <td>41.14</td>\n",
       "      <td>5.8600</td>\n",
       "      <td>41.500</td>\n",
       "      <td>5.8095</td>\n",
       "      <td>40.35</td>\n",
       "      <td>5.8414</td>\n",
       "      <td>40.48</td>\n",
       "      <td>8684648</td>\n",
       "      <td>413669</td>\n",
       "    </tr>\n",
       "    <tr>\n",
       "      <th>2013-11-29</th>\n",
       "      <td>5.9040</td>\n",
       "      <td>41.34</td>\n",
       "      <td>5.9880</td>\n",
       "      <td>41.700</td>\n",
       "      <td>5.8897</td>\n",
       "      <td>40.50</td>\n",
       "      <td>5.9325</td>\n",
       "      <td>40.69</td>\n",
       "      <td>3258744</td>\n",
       "      <td>169896</td>\n",
       "    </tr>\n",
       "  </tbody>\n",
       "</table>\n",
       "</div>"
      ],
      "text/plain": [
       "Attributes    open           high             low          close         \\\n",
       "Symbols       INFY    TCS    INFY     TCS    INFY    TCS    INFY    TCS   \n",
       "date                                                                      \n",
       "2013-11-22  5.8853  35.60  5.9325  37.598  5.8666  35.27  5.9215  37.36   \n",
       "2013-11-25  5.8919  37.99  5.8919  39.000  5.8403  37.76  5.8458  38.20   \n",
       "2013-11-26  5.8458  39.10  5.9150  40.300  5.8018  38.71  5.8853  40.06   \n",
       "2013-11-27  5.8469  41.14  5.8600  41.500  5.8095  40.35  5.8414  40.48   \n",
       "2013-11-29  5.9040  41.34  5.9880  41.700  5.8897  40.50  5.9325  40.69   \n",
       "\n",
       "Attributes   volume          \n",
       "Symbols        INFY     TCS  \n",
       "date                         \n",
       "2013-11-22  6069736  434786  \n",
       "2013-11-25  8267448  370850  \n",
       "2013-11-26  7948592  789901  \n",
       "2013-11-27  8684648  413669  \n",
       "2013-11-29  3258744  169896  "
      ]
     },
     "execution_count": 46,
     "metadata": {},
     "output_type": "execute_result"
    }
   ],
   "source": [
    "company= [\"TCS\",\"INFY\"] #infosys and tcs financial data set.\n",
    "start=\"2013-01-01\"\n",
    "end=\"2017-12-31\"\n",
    "tcinfo=data.DataReader(name=company, data_source=\"iex\", start=start, end=end)\n",
    "tcinfo.head()"
   ]
  },
  {
   "cell_type": "code",
   "execution_count": 53,
   "metadata": {},
   "outputs": [
    {
     "data": {
      "text/plain": [
       "'2013-11-22'"
      ]
     },
     "execution_count": 53,
     "metadata": {},
     "output_type": "execute_result"
    }
   ],
   "source": [
    "tcinfo.values\n",
    "tcinfo.columns\n",
    "tcinfo.index\n",
    "tcinfo.index[0]"
   ]
  },
  {
   "cell_type": "markdown",
   "metadata": {},
   "source": [
    "# Selecting Rows from a DataFrame with a DateTimeIndex\n",
    "\n",
    "Here convert the indexes fro str to Time stamp by pd.to_datetime() function.\n",
    "\n",
    "We can perform operations when we convert date from string to time stamp only."
   ]
  },
  {
   "cell_type": "code",
   "execution_count": 125,
   "metadata": {},
   "outputs": [
    {
     "data": {
      "text/html": [
       "<div>\n",
       "<style scoped>\n",
       "    .dataframe tbody tr th:only-of-type {\n",
       "        vertical-align: middle;\n",
       "    }\n",
       "\n",
       "    .dataframe tbody tr th {\n",
       "        vertical-align: top;\n",
       "    }\n",
       "\n",
       "    .dataframe thead th {\n",
       "        text-align: right;\n",
       "    }\n",
       "</style>\n",
       "<table border=\"1\" class=\"dataframe\">\n",
       "  <thead>\n",
       "    <tr style=\"text-align: right;\">\n",
       "      <th></th>\n",
       "      <th>open</th>\n",
       "      <th>high</th>\n",
       "      <th>low</th>\n",
       "      <th>close</th>\n",
       "      <th>volume</th>\n",
       "    </tr>\n",
       "    <tr>\n",
       "      <th>date</th>\n",
       "      <th></th>\n",
       "      <th></th>\n",
       "      <th></th>\n",
       "      <th></th>\n",
       "      <th></th>\n",
       "    </tr>\n",
       "  </thead>\n",
       "  <tbody>\n",
       "    <tr>\n",
       "      <th>2013-11-22</th>\n",
       "      <td>517.2267</td>\n",
       "      <td>518.6031</td>\n",
       "      <td>515.1259</td>\n",
       "      <td>516.4609</td>\n",
       "      <td>2506114</td>\n",
       "    </tr>\n",
       "    <tr>\n",
       "      <th>2013-11-25</th>\n",
       "      <td>519.0986</td>\n",
       "      <td>527.1216</td>\n",
       "      <td>518.0288</td>\n",
       "      <td>523.4880</td>\n",
       "      <td>3222795</td>\n",
       "    </tr>\n",
       "    <tr>\n",
       "      <th>2013-11-26</th>\n",
       "      <td>524.8243</td>\n",
       "      <td>531.2808</td>\n",
       "      <td>521.9890</td>\n",
       "      <td>529.7342</td>\n",
       "      <td>4569794</td>\n",
       "    </tr>\n",
       "  </tbody>\n",
       "</table>\n",
       "</div>"
      ],
      "text/plain": [
       "                open      high       low     close   volume\n",
       "date                                                       \n",
       "2013-11-22  517.2267  518.6031  515.1259  516.4609  2506114\n",
       "2013-11-25  519.0986  527.1216  518.0288  523.4880  3222795\n",
       "2013-11-26  524.8243  531.2808  521.9890  529.7342  4569794"
      ]
     },
     "execution_count": 125,
     "metadata": {},
     "output_type": "execute_result"
    }
   ],
   "source": [
    "company=\"GOOGL\"\n",
    "start=\"2013-01-01\"\n",
    "end=\"2017-12-31\"\n",
    "googl=data.DataReader(name=company, data_source=\"iex\", start=start, end=end)\n",
    "googl.head(3)"
   ]
  },
  {
   "cell_type": "code",
   "execution_count": 126,
   "metadata": {},
   "outputs": [
    {
     "name": "stderr",
     "output_type": "stream",
     "text": [
      "E:\\anaconda\\lib\\site-packages\\ipykernel_launcher.py:3: DeprecationWarning: \n",
      ".ix is deprecated. Please use\n",
      ".loc for label based indexing or\n",
      ".iloc for positional indexing\n",
      "\n",
      "See the documentation here:\n",
      "http://pandas.pydata.org/pandas-docs/stable/indexing.html#ix-indexer-is-deprecated\n",
      "  This is separate from the ipykernel package so we can avoid doing imports until\n",
      "E:\\anaconda\\lib\\site-packages\\ipykernel_launcher.py:4: DeprecationWarning: \n",
      ".ix is deprecated. Please use\n",
      ".loc for label based indexing or\n",
      ".iloc for positional indexing\n",
      "\n",
      "See the documentation here:\n",
      "http://pandas.pydata.org/pandas-docs/stable/indexing.html#ix-indexer-is-deprecated\n",
      "  after removing the cwd from sys.path.\n"
     ]
    },
    {
     "data": {
      "text/plain": [
       "open          533.140\n",
       "high          536.746\n",
       "low           525.030\n",
       "close         526.100\n",
       "volume    1694832.000\n",
       "Name: 2015-02-04, dtype: float64"
      ]
     },
     "execution_count": 126,
     "metadata": {},
     "output_type": "execute_result"
    }
   ],
   "source": [
    "googl.loc[\"2013-11-27\"]\n",
    "googl.iloc[300]\n",
    "googl.ix[[\"2014-11-17\"]]\n",
    "googl.ix[300]"
   ]
  },
  {
   "cell_type": "code",
   "execution_count": 127,
   "metadata": {
    "collapsed": true
   },
   "outputs": [
    {
     "name": "stderr",
     "output_type": "stream",
     "text": [
      "E:\\anaconda\\lib\\site-packages\\ipykernel_launcher.py:3: DeprecationWarning: \n",
      ".ix is deprecated. Please use\n",
      ".loc for label based indexing or\n",
      ".iloc for positional indexing\n",
      "\n",
      "See the documentation here:\n",
      "http://pandas.pydata.org/pandas-docs/stable/indexing.html#ix-indexer-is-deprecated\n",
      "  This is separate from the ipykernel package so we can avoid doing imports until\n",
      "E:\\anaconda\\lib\\site-packages\\ipykernel_launcher.py:4: DeprecationWarning: \n",
      ".ix is deprecated. Please use\n",
      ".loc for label based indexing or\n",
      ".iloc for positional indexing\n",
      "\n",
      "See the documentation here:\n",
      "http://pandas.pydata.org/pandas-docs/stable/indexing.html#ix-indexer-is-deprecated\n",
      "  after removing the cwd from sys.path.\n"
     ]
    },
    {
     "data": {
      "text/html": [
       "<div>\n",
       "<style scoped>\n",
       "    .dataframe tbody tr th:only-of-type {\n",
       "        vertical-align: middle;\n",
       "    }\n",
       "\n",
       "    .dataframe tbody tr th {\n",
       "        vertical-align: top;\n",
       "    }\n",
       "\n",
       "    .dataframe thead th {\n",
       "        text-align: right;\n",
       "    }\n",
       "</style>\n",
       "<table border=\"1\" class=\"dataframe\">\n",
       "  <thead>\n",
       "    <tr style=\"text-align: right;\">\n",
       "      <th></th>\n",
       "      <th>open</th>\n",
       "      <th>high</th>\n",
       "      <th>low</th>\n",
       "      <th>close</th>\n",
       "      <th>volume</th>\n",
       "    </tr>\n",
       "    <tr>\n",
       "      <th>date</th>\n",
       "      <th></th>\n",
       "      <th></th>\n",
       "      <th></th>\n",
       "      <th></th>\n",
       "      <th></th>\n",
       "    </tr>\n",
       "  </thead>\n",
       "  <tbody>\n",
       "    <tr>\n",
       "      <th>2015-02-04</th>\n",
       "      <td>533.140</td>\n",
       "      <td>536.7460</td>\n",
       "      <td>525.0300</td>\n",
       "      <td>526.100</td>\n",
       "      <td>1694832</td>\n",
       "    </tr>\n",
       "    <tr>\n",
       "      <th>2015-02-05</th>\n",
       "      <td>527.930</td>\n",
       "      <td>530.6900</td>\n",
       "      <td>525.6400</td>\n",
       "      <td>529.830</td>\n",
       "      <td>1658751</td>\n",
       "    </tr>\n",
       "    <tr>\n",
       "      <th>2015-02-06</th>\n",
       "      <td>531.010</td>\n",
       "      <td>540.2150</td>\n",
       "      <td>528.6500</td>\n",
       "      <td>533.875</td>\n",
       "      <td>2146922</td>\n",
       "    </tr>\n",
       "    <tr>\n",
       "      <th>2015-02-09</th>\n",
       "      <td>531.060</td>\n",
       "      <td>533.8800</td>\n",
       "      <td>527.5500</td>\n",
       "      <td>529.280</td>\n",
       "      <td>1515687</td>\n",
       "    </tr>\n",
       "    <tr>\n",
       "      <th>2015-02-10</th>\n",
       "      <td>532.150</td>\n",
       "      <td>541.0000</td>\n",
       "      <td>529.1725</td>\n",
       "      <td>540.160</td>\n",
       "      <td>2371468</td>\n",
       "    </tr>\n",
       "    <tr>\n",
       "      <th>2015-02-11</th>\n",
       "      <td>539.730</td>\n",
       "      <td>541.9500</td>\n",
       "      <td>536.0000</td>\n",
       "      <td>538.000</td>\n",
       "      <td>1915336</td>\n",
       "    </tr>\n",
       "    <tr>\n",
       "      <th>2015-02-12</th>\n",
       "      <td>539.660</td>\n",
       "      <td>548.3400</td>\n",
       "      <td>537.0000</td>\n",
       "      <td>546.010</td>\n",
       "      <td>2429520</td>\n",
       "    </tr>\n",
       "    <tr>\n",
       "      <th>2015-02-13</th>\n",
       "      <td>547.510</td>\n",
       "      <td>552.5400</td>\n",
       "      <td>546.6000</td>\n",
       "      <td>551.160</td>\n",
       "      <td>2369115</td>\n",
       "    </tr>\n",
       "    <tr>\n",
       "      <th>2015-02-17</th>\n",
       "      <td>551.160</td>\n",
       "      <td>553.0000</td>\n",
       "      <td>543.2600</td>\n",
       "      <td>545.010</td>\n",
       "      <td>1958679</td>\n",
       "    </tr>\n",
       "    <tr>\n",
       "      <th>2015-02-18</th>\n",
       "      <td>543.820</td>\n",
       "      <td>547.5500</td>\n",
       "      <td>539.5500</td>\n",
       "      <td>542.650</td>\n",
       "      <td>1558153</td>\n",
       "    </tr>\n",
       "    <tr>\n",
       "      <th>2015-02-19</th>\n",
       "      <td>542.470</td>\n",
       "      <td>546.8600</td>\n",
       "      <td>540.7500</td>\n",
       "      <td>546.450</td>\n",
       "      <td>1541669</td>\n",
       "    </tr>\n",
       "    <tr>\n",
       "      <th>2015-02-20</th>\n",
       "      <td>547.580</td>\n",
       "      <td>547.5800</td>\n",
       "      <td>538.1000</td>\n",
       "      <td>541.800</td>\n",
       "      <td>1911732</td>\n",
       "    </tr>\n",
       "    <tr>\n",
       "      <th>2015-02-23</th>\n",
       "      <td>539.000</td>\n",
       "      <td>539.3000</td>\n",
       "      <td>532.0000</td>\n",
       "      <td>535.000</td>\n",
       "      <td>1645276</td>\n",
       "    </tr>\n",
       "    <tr>\n",
       "      <th>2015-02-24</th>\n",
       "      <td>531.550</td>\n",
       "      <td>539.4000</td>\n",
       "      <td>531.0000</td>\n",
       "      <td>538.650</td>\n",
       "      <td>1421373</td>\n",
       "    </tr>\n",
       "    <tr>\n",
       "      <th>2015-02-25</th>\n",
       "      <td>538.440</td>\n",
       "      <td>549.5700</td>\n",
       "      <td>538.0100</td>\n",
       "      <td>547.330</td>\n",
       "      <td>2041827</td>\n",
       "    </tr>\n",
       "    <tr>\n",
       "      <th>2015-02-26</th>\n",
       "      <td>545.740</td>\n",
       "      <td>560.1299</td>\n",
       "      <td>545.0900</td>\n",
       "      <td>559.290</td>\n",
       "      <td>2701584</td>\n",
       "    </tr>\n",
       "    <tr>\n",
       "      <th>2015-02-27</th>\n",
       "      <td>558.150</td>\n",
       "      <td>569.4200</td>\n",
       "      <td>557.0300</td>\n",
       "      <td>562.630</td>\n",
       "      <td>3416445</td>\n",
       "    </tr>\n",
       "    <tr>\n",
       "      <th>2015-03-02</th>\n",
       "      <td>567.000</td>\n",
       "      <td>575.9900</td>\n",
       "      <td>563.1500</td>\n",
       "      <td>575.020</td>\n",
       "      <td>2520304</td>\n",
       "    </tr>\n",
       "    <tr>\n",
       "      <th>2015-03-03</th>\n",
       "      <td>576.350</td>\n",
       "      <td>580.8500</td>\n",
       "      <td>570.5000</td>\n",
       "      <td>578.795</td>\n",
       "      <td>2526280</td>\n",
       "    </tr>\n",
       "    <tr>\n",
       "      <th>2015-03-04</th>\n",
       "      <td>576.970</td>\n",
       "      <td>581.6300</td>\n",
       "      <td>572.5200</td>\n",
       "      <td>578.330</td>\n",
       "      <td>1898150</td>\n",
       "    </tr>\n",
       "    <tr>\n",
       "      <th>2015-03-05</th>\n",
       "      <td>579.620</td>\n",
       "      <td>583.2000</td>\n",
       "      <td>578.2300</td>\n",
       "      <td>581.435</td>\n",
       "      <td>1795889</td>\n",
       "    </tr>\n",
       "    <tr>\n",
       "      <th>2015-03-06</th>\n",
       "      <td>582.000</td>\n",
       "      <td>582.7800</td>\n",
       "      <td>572.0600</td>\n",
       "      <td>572.900</td>\n",
       "      <td>1879619</td>\n",
       "    </tr>\n",
       "    <tr>\n",
       "      <th>2015-03-09</th>\n",
       "      <td>570.920</td>\n",
       "      <td>575.4500</td>\n",
       "      <td>569.0500</td>\n",
       "      <td>574.100</td>\n",
       "      <td>1174244</td>\n",
       "    </tr>\n",
       "    <tr>\n",
       "      <th>2015-03-10</th>\n",
       "      <td>568.475</td>\n",
       "      <td>569.7620</td>\n",
       "      <td>559.8200</td>\n",
       "      <td>559.850</td>\n",
       "      <td>2004024</td>\n",
       "    </tr>\n",
       "    <tr>\n",
       "      <th>2015-03-11</th>\n",
       "      <td>559.800</td>\n",
       "      <td>564.1800</td>\n",
       "      <td>555.4100</td>\n",
       "      <td>555.690</td>\n",
       "      <td>2026158</td>\n",
       "    </tr>\n",
       "    <tr>\n",
       "      <th>2015-03-12</th>\n",
       "      <td>558.480</td>\n",
       "      <td>561.8400</td>\n",
       "      <td>555.5300</td>\n",
       "      <td>561.170</td>\n",
       "      <td>1780057</td>\n",
       "    </tr>\n",
       "    <tr>\n",
       "      <th>2015-03-13</th>\n",
       "      <td>559.230</td>\n",
       "      <td>564.3600</td>\n",
       "      <td>550.3300</td>\n",
       "      <td>553.000</td>\n",
       "      <td>1771354</td>\n",
       "    </tr>\n",
       "    <tr>\n",
       "      <th>2015-03-16</th>\n",
       "      <td>556.930</td>\n",
       "      <td>563.7500</td>\n",
       "      <td>551.3200</td>\n",
       "      <td>561.640</td>\n",
       "      <td>1842754</td>\n",
       "    </tr>\n",
       "    <tr>\n",
       "      <th>2015-03-17</th>\n",
       "      <td>558.290</td>\n",
       "      <td>560.6400</td>\n",
       "      <td>554.4100</td>\n",
       "      <td>557.610</td>\n",
       "      <td>1444560</td>\n",
       "    </tr>\n",
       "    <tr>\n",
       "      <th>2015-03-18</th>\n",
       "      <td>557.730</td>\n",
       "      <td>566.5100</td>\n",
       "      <td>553.5000</td>\n",
       "      <td>566.160</td>\n",
       "      <td>1766221</td>\n",
       "    </tr>\n",
       "    <tr>\n",
       "      <th>2015-03-19</th>\n",
       "      <td>564.520</td>\n",
       "      <td>566.9600</td>\n",
       "      <td>562.1200</td>\n",
       "      <td>563.670</td>\n",
       "      <td>1232969</td>\n",
       "    </tr>\n",
       "    <tr>\n",
       "      <th>2015-03-20</th>\n",
       "      <td>566.710</td>\n",
       "      <td>567.1000</td>\n",
       "      <td>564.4800</td>\n",
       "      <td>564.950</td>\n",
       "      <td>2216038</td>\n",
       "    </tr>\n",
       "    <tr>\n",
       "      <th>2015-03-23</th>\n",
       "      <td>566.000</td>\n",
       "      <td>569.6399</td>\n",
       "      <td>563.0600</td>\n",
       "      <td>565.370</td>\n",
       "      <td>1511686</td>\n",
       "    </tr>\n",
       "    <tr>\n",
       "      <th>2015-03-24</th>\n",
       "      <td>568.540</td>\n",
       "      <td>581.8800</td>\n",
       "      <td>568.0900</td>\n",
       "      <td>577.540</td>\n",
       "      <td>3957844</td>\n",
       "    </tr>\n",
       "    <tr>\n",
       "      <th>2015-03-25</th>\n",
       "      <td>577.570</td>\n",
       "      <td>580.0700</td>\n",
       "      <td>567.0000</td>\n",
       "      <td>567.000</td>\n",
       "      <td>2653451</td>\n",
       "    </tr>\n",
       "    <tr>\n",
       "      <th>2015-03-26</th>\n",
       "      <td>564.650</td>\n",
       "      <td>567.1900</td>\n",
       "      <td>558.3100</td>\n",
       "      <td>563.640</td>\n",
       "      <td>2492141</td>\n",
       "    </tr>\n",
       "    <tr>\n",
       "      <th>2015-03-27</th>\n",
       "      <td>561.830</td>\n",
       "      <td>564.0660</td>\n",
       "      <td>556.9300</td>\n",
       "      <td>557.550</td>\n",
       "      <td>1727629</td>\n",
       "    </tr>\n",
       "    <tr>\n",
       "      <th>2015-03-30</th>\n",
       "      <td>560.250</td>\n",
       "      <td>562.1600</td>\n",
       "      <td>556.7900</td>\n",
       "      <td>561.135</td>\n",
       "      <td>1239350</td>\n",
       "    </tr>\n",
       "    <tr>\n",
       "      <th>2015-03-31</th>\n",
       "      <td>557.940</td>\n",
       "      <td>562.4500</td>\n",
       "      <td>554.6700</td>\n",
       "      <td>554.700</td>\n",
       "      <td>1746622</td>\n",
       "    </tr>\n",
       "    <tr>\n",
       "      <th>2015-04-01</th>\n",
       "      <td>554.830</td>\n",
       "      <td>558.5000</td>\n",
       "      <td>546.0300</td>\n",
       "      <td>549.490</td>\n",
       "      <td>1945090</td>\n",
       "    </tr>\n",
       "    <tr>\n",
       "      <th>2015-04-02</th>\n",
       "      <td>547.410</td>\n",
       "      <td>548.0000</td>\n",
       "      <td>540.4400</td>\n",
       "      <td>541.310</td>\n",
       "      <td>2388019</td>\n",
       "    </tr>\n",
       "    <tr>\n",
       "      <th>2015-04-06</th>\n",
       "      <td>538.840</td>\n",
       "      <td>545.5400</td>\n",
       "      <td>535.7000</td>\n",
       "      <td>543.950</td>\n",
       "      <td>1685894</td>\n",
       "    </tr>\n",
       "    <tr>\n",
       "      <th>2015-04-07</th>\n",
       "      <td>544.990</td>\n",
       "      <td>550.1600</td>\n",
       "      <td>543.5850</td>\n",
       "      <td>544.860</td>\n",
       "      <td>1365916</td>\n",
       "    </tr>\n",
       "    <tr>\n",
       "      <th>2015-04-08</th>\n",
       "      <td>546.000</td>\n",
       "      <td>551.5000</td>\n",
       "      <td>546.0000</td>\n",
       "      <td>548.840</td>\n",
       "      <td>1419316</td>\n",
       "    </tr>\n",
       "    <tr>\n",
       "      <th>2015-04-09</th>\n",
       "      <td>549.210</td>\n",
       "      <td>549.3700</td>\n",
       "      <td>541.9510</td>\n",
       "      <td>548.020</td>\n",
       "      <td>1618299</td>\n",
       "    </tr>\n",
       "    <tr>\n",
       "      <th>2015-04-10</th>\n",
       "      <td>549.570</td>\n",
       "      <td>549.8500</td>\n",
       "      <td>544.9800</td>\n",
       "      <td>548.540</td>\n",
       "      <td>1305219</td>\n",
       "    </tr>\n",
       "    <tr>\n",
       "      <th>2015-04-13</th>\n",
       "      <td>547.050</td>\n",
       "      <td>553.2700</td>\n",
       "      <td>546.3000</td>\n",
       "      <td>548.640</td>\n",
       "      <td>1466277</td>\n",
       "    </tr>\n",
       "    <tr>\n",
       "      <th>2015-04-14</th>\n",
       "      <td>546.570</td>\n",
       "      <td>546.5700</td>\n",
       "      <td>535.7400</td>\n",
       "      <td>539.780</td>\n",
       "      <td>2360329</td>\n",
       "    </tr>\n",
       "    <tr>\n",
       "      <th>2015-04-15</th>\n",
       "      <td>537.960</td>\n",
       "      <td>543.1900</td>\n",
       "      <td>532.3700</td>\n",
       "      <td>541.040</td>\n",
       "      <td>2348087</td>\n",
       "    </tr>\n",
       "    <tr>\n",
       "      <th>2015-04-16</th>\n",
       "      <td>538.350</td>\n",
       "      <td>545.2290</td>\n",
       "      <td>538.1000</td>\n",
       "      <td>543.520</td>\n",
       "      <td>1586088</td>\n",
       "    </tr>\n",
       "    <tr>\n",
       "      <th>2015-04-17</th>\n",
       "      <td>537.310</td>\n",
       "      <td>539.8000</td>\n",
       "      <td>529.0000</td>\n",
       "      <td>532.740</td>\n",
       "      <td>2461698</td>\n",
       "    </tr>\n",
       "    <tr>\n",
       "      <th>2015-04-20</th>\n",
       "      <td>533.750</td>\n",
       "      <td>545.8000</td>\n",
       "      <td>533.3500</td>\n",
       "      <td>544.530</td>\n",
       "      <td>1926064</td>\n",
       "    </tr>\n",
       "    <tr>\n",
       "      <th>2015-04-21</th>\n",
       "      <td>546.310</td>\n",
       "      <td>547.7745</td>\n",
       "      <td>542.2100</td>\n",
       "      <td>542.925</td>\n",
       "      <td>1456387</td>\n",
       "    </tr>\n",
       "    <tr>\n",
       "      <th>2015-04-22</th>\n",
       "      <td>543.060</td>\n",
       "      <td>551.0000</td>\n",
       "      <td>541.3200</td>\n",
       "      <td>549.180</td>\n",
       "      <td>1590320</td>\n",
       "    </tr>\n",
       "    <tr>\n",
       "      <th>2015-04-23</th>\n",
       "      <td>550.410</td>\n",
       "      <td>561.1700</td>\n",
       "      <td>550.0800</td>\n",
       "      <td>557.460</td>\n",
       "      <td>3909155</td>\n",
       "    </tr>\n",
       "    <tr>\n",
       "      <th>2015-04-24</th>\n",
       "      <td>580.050</td>\n",
       "      <td>584.7000</td>\n",
       "      <td>568.3500</td>\n",
       "      <td>573.660</td>\n",
       "      <td>4608403</td>\n",
       "    </tr>\n",
       "    <tr>\n",
       "      <th>2015-04-27</th>\n",
       "      <td>572.770</td>\n",
       "      <td>575.5200</td>\n",
       "      <td>562.3000</td>\n",
       "      <td>566.120</td>\n",
       "      <td>2403105</td>\n",
       "    </tr>\n",
       "    <tr>\n",
       "      <th>2015-04-28</th>\n",
       "      <td>564.320</td>\n",
       "      <td>567.8300</td>\n",
       "      <td>560.9600</td>\n",
       "      <td>564.370</td>\n",
       "      <td>1859787</td>\n",
       "    </tr>\n",
       "    <tr>\n",
       "      <th>2015-04-29</th>\n",
       "      <td>560.510</td>\n",
       "      <td>565.8400</td>\n",
       "      <td>559.0000</td>\n",
       "      <td>561.390</td>\n",
       "      <td>1681064</td>\n",
       "    </tr>\n",
       "    <tr>\n",
       "      <th>2015-04-30</th>\n",
       "      <td>558.560</td>\n",
       "      <td>561.1100</td>\n",
       "      <td>546.7200</td>\n",
       "      <td>548.770</td>\n",
       "      <td>2362024</td>\n",
       "    </tr>\n",
       "  </tbody>\n",
       "</table>\n",
       "</div>"
      ],
      "text/plain": [
       "               open      high       low    close   volume\n",
       "date                                                     \n",
       "2015-02-04  533.140  536.7460  525.0300  526.100  1694832\n",
       "2015-02-05  527.930  530.6900  525.6400  529.830  1658751\n",
       "2015-02-06  531.010  540.2150  528.6500  533.875  2146922\n",
       "2015-02-09  531.060  533.8800  527.5500  529.280  1515687\n",
       "2015-02-10  532.150  541.0000  529.1725  540.160  2371468\n",
       "2015-02-11  539.730  541.9500  536.0000  538.000  1915336\n",
       "2015-02-12  539.660  548.3400  537.0000  546.010  2429520\n",
       "2015-02-13  547.510  552.5400  546.6000  551.160  2369115\n",
       "2015-02-17  551.160  553.0000  543.2600  545.010  1958679\n",
       "2015-02-18  543.820  547.5500  539.5500  542.650  1558153\n",
       "2015-02-19  542.470  546.8600  540.7500  546.450  1541669\n",
       "2015-02-20  547.580  547.5800  538.1000  541.800  1911732\n",
       "2015-02-23  539.000  539.3000  532.0000  535.000  1645276\n",
       "2015-02-24  531.550  539.4000  531.0000  538.650  1421373\n",
       "2015-02-25  538.440  549.5700  538.0100  547.330  2041827\n",
       "2015-02-26  545.740  560.1299  545.0900  559.290  2701584\n",
       "2015-02-27  558.150  569.4200  557.0300  562.630  3416445\n",
       "2015-03-02  567.000  575.9900  563.1500  575.020  2520304\n",
       "2015-03-03  576.350  580.8500  570.5000  578.795  2526280\n",
       "2015-03-04  576.970  581.6300  572.5200  578.330  1898150\n",
       "2015-03-05  579.620  583.2000  578.2300  581.435  1795889\n",
       "2015-03-06  582.000  582.7800  572.0600  572.900  1879619\n",
       "2015-03-09  570.920  575.4500  569.0500  574.100  1174244\n",
       "2015-03-10  568.475  569.7620  559.8200  559.850  2004024\n",
       "2015-03-11  559.800  564.1800  555.4100  555.690  2026158\n",
       "2015-03-12  558.480  561.8400  555.5300  561.170  1780057\n",
       "2015-03-13  559.230  564.3600  550.3300  553.000  1771354\n",
       "2015-03-16  556.930  563.7500  551.3200  561.640  1842754\n",
       "2015-03-17  558.290  560.6400  554.4100  557.610  1444560\n",
       "2015-03-18  557.730  566.5100  553.5000  566.160  1766221\n",
       "2015-03-19  564.520  566.9600  562.1200  563.670  1232969\n",
       "2015-03-20  566.710  567.1000  564.4800  564.950  2216038\n",
       "2015-03-23  566.000  569.6399  563.0600  565.370  1511686\n",
       "2015-03-24  568.540  581.8800  568.0900  577.540  3957844\n",
       "2015-03-25  577.570  580.0700  567.0000  567.000  2653451\n",
       "2015-03-26  564.650  567.1900  558.3100  563.640  2492141\n",
       "2015-03-27  561.830  564.0660  556.9300  557.550  1727629\n",
       "2015-03-30  560.250  562.1600  556.7900  561.135  1239350\n",
       "2015-03-31  557.940  562.4500  554.6700  554.700  1746622\n",
       "2015-04-01  554.830  558.5000  546.0300  549.490  1945090\n",
       "2015-04-02  547.410  548.0000  540.4400  541.310  2388019\n",
       "2015-04-06  538.840  545.5400  535.7000  543.950  1685894\n",
       "2015-04-07  544.990  550.1600  543.5850  544.860  1365916\n",
       "2015-04-08  546.000  551.5000  546.0000  548.840  1419316\n",
       "2015-04-09  549.210  549.3700  541.9510  548.020  1618299\n",
       "2015-04-10  549.570  549.8500  544.9800  548.540  1305219\n",
       "2015-04-13  547.050  553.2700  546.3000  548.640  1466277\n",
       "2015-04-14  546.570  546.5700  535.7400  539.780  2360329\n",
       "2015-04-15  537.960  543.1900  532.3700  541.040  2348087\n",
       "2015-04-16  538.350  545.2290  538.1000  543.520  1586088\n",
       "2015-04-17  537.310  539.8000  529.0000  532.740  2461698\n",
       "2015-04-20  533.750  545.8000  533.3500  544.530  1926064\n",
       "2015-04-21  546.310  547.7745  542.2100  542.925  1456387\n",
       "2015-04-22  543.060  551.0000  541.3200  549.180  1590320\n",
       "2015-04-23  550.410  561.1700  550.0800  557.460  3909155\n",
       "2015-04-24  580.050  584.7000  568.3500  573.660  4608403\n",
       "2015-04-27  572.770  575.5200  562.3000  566.120  2403105\n",
       "2015-04-28  564.320  567.8300  560.9600  564.370  1859787\n",
       "2015-04-29  560.510  565.8400  559.0000  561.390  1681064\n",
       "2015-04-30  558.560  561.1100  546.7200  548.770  2362024"
      ]
     },
     "execution_count": 127,
     "metadata": {},
     "output_type": "execute_result"
    }
   ],
   "source": [
    "googl.loc[\"2013-11-27\":\"2013-12-27\"]\n",
    "googl.iloc[300:354]\n",
    "googl.ix[\"2014-01-17\":\"2014-02-17\"]\n",
    "googl.ix[300:360]"
   ]
  },
  {
   "cell_type": "code",
   "execution_count": 14,
   "metadata": {},
   "outputs": [
    {
     "data": {
      "text/plain": [
       "DatetimeIndex(['2011-02-04', '2012-02-04', '2013-02-04', '2014-02-04',\n",
       "               '2015-02-04', '2016-02-04', '2017-02-04'],\n",
       "              dtype='datetime64[ns]', freq='<DateOffset: years=1>')"
      ]
     },
     "execution_count": 14,
     "metadata": {},
     "output_type": "execute_result"
    }
   ],
   "source": [
    "years=pd.date_range(start=\"2011-02-04\",end=\"2017-12-31\",freq=pd.DateOffset(years=1))\n",
    "#returns the list of dates from 1991 to 2017 with 1 month incrementation (or) interval\n",
    "years"
   ]
  },
  {
   "cell_type": "code",
   "execution_count": 37,
   "metadata": {},
   "outputs": [
    {
     "data": {
      "text/plain": [
       "DatetimeIndex(['2013-11-22', '2013-11-25', '2013-11-26', '2013-11-27',\n",
       "               '2013-11-29', '2013-12-02', '2013-12-03', '2013-12-04',\n",
       "               '2013-12-05', '2013-12-06',\n",
       "               ...\n",
       "               '2017-12-15', '2017-12-18', '2017-12-19', '2017-12-20',\n",
       "               '2017-12-21', '2017-12-22', '2017-12-26', '2017-12-27',\n",
       "               '2017-12-28', '2017-12-29'],\n",
       "              dtype='datetime64[ns]', name='date', length=1033, freq=None)"
      ]
     },
     "execution_count": 37,
     "metadata": {},
     "output_type": "execute_result"
    }
   ],
   "source": [
    "googl.index=pd.to_datetime(googl.index)\n",
    "googl.index"
   ]
  },
  {
   "cell_type": "code",
   "execution_count": 38,
   "metadata": {},
   "outputs": [],
   "source": [
    "mask=googl.index.isin(years)\n",
    "#returns the bolean that exists on year lists"
   ]
  },
  {
   "cell_type": "code",
   "execution_count": 39,
   "metadata": {},
   "outputs": [
    {
     "data": {
      "text/html": [
       "<div>\n",
       "<style scoped>\n",
       "    .dataframe tbody tr th:only-of-type {\n",
       "        vertical-align: middle;\n",
       "    }\n",
       "\n",
       "    .dataframe tbody tr th {\n",
       "        vertical-align: top;\n",
       "    }\n",
       "\n",
       "    .dataframe thead th {\n",
       "        text-align: right;\n",
       "    }\n",
       "</style>\n",
       "<table border=\"1\" class=\"dataframe\">\n",
       "  <thead>\n",
       "    <tr style=\"text-align: right;\">\n",
       "      <th></th>\n",
       "      <th>open</th>\n",
       "      <th>high</th>\n",
       "      <th>low</th>\n",
       "      <th>close</th>\n",
       "      <th>volume</th>\n",
       "    </tr>\n",
       "    <tr>\n",
       "      <th>date</th>\n",
       "      <th></th>\n",
       "      <th></th>\n",
       "      <th></th>\n",
       "      <th></th>\n",
       "      <th></th>\n",
       "    </tr>\n",
       "  </thead>\n",
       "  <tbody>\n",
       "    <tr>\n",
       "      <th>2014-02-04</th>\n",
       "      <td>569.564</td>\n",
       "      <td>578.0775</td>\n",
       "      <td>569.0735</td>\n",
       "      <td>569.6491</td>\n",
       "      <td>5625848</td>\n",
       "    </tr>\n",
       "    <tr>\n",
       "      <th>2015-02-04</th>\n",
       "      <td>533.140</td>\n",
       "      <td>536.7460</td>\n",
       "      <td>525.0300</td>\n",
       "      <td>526.1000</td>\n",
       "      <td>1694832</td>\n",
       "    </tr>\n",
       "    <tr>\n",
       "      <th>2016-02-04</th>\n",
       "      <td>744.590</td>\n",
       "      <td>745.2400</td>\n",
       "      <td>722.6001</td>\n",
       "      <td>730.0300</td>\n",
       "      <td>5246123</td>\n",
       "    </tr>\n",
       "  </tbody>\n",
       "</table>\n",
       "</div>"
      ],
      "text/plain": [
       "               open      high       low     close   volume\n",
       "date                                                      \n",
       "2014-02-04  569.564  578.0775  569.0735  569.6491  5625848\n",
       "2015-02-04  533.140  536.7460  525.0300  526.1000  1694832\n",
       "2016-02-04  744.590  745.2400  722.6001  730.0300  5246123"
      ]
     },
     "execution_count": 39,
     "metadata": {},
     "output_type": "execute_result"
    }
   ],
   "source": [
    "googl.loc[mask]\n",
    "#returns the rows that satisfy the mask."
   ]
  },
  {
   "cell_type": "markdown",
   "metadata": {},
   "source": [
    "# TIME STAMP OBJECT ATTRIBUTES"
   ]
  },
  {
   "cell_type": "code",
   "execution_count": 79,
   "metadata": {
    "collapsed": true
   },
   "outputs": [
    {
     "data": {
      "text/html": [
       "<div>\n",
       "<style scoped>\n",
       "    .dataframe tbody tr th:only-of-type {\n",
       "        vertical-align: middle;\n",
       "    }\n",
       "\n",
       "    .dataframe tbody tr th {\n",
       "        vertical-align: top;\n",
       "    }\n",
       "\n",
       "    .dataframe thead th {\n",
       "        text-align: right;\n",
       "    }\n",
       "</style>\n",
       "<table border=\"1\" class=\"dataframe\">\n",
       "  <thead>\n",
       "    <tr style=\"text-align: right;\">\n",
       "      <th></th>\n",
       "      <th>open</th>\n",
       "      <th>high</th>\n",
       "      <th>low</th>\n",
       "      <th>close</th>\n",
       "      <th>volume</th>\n",
       "    </tr>\n",
       "    <tr>\n",
       "      <th>date</th>\n",
       "      <th></th>\n",
       "      <th></th>\n",
       "      <th></th>\n",
       "      <th></th>\n",
       "      <th></th>\n",
       "    </tr>\n",
       "  </thead>\n",
       "  <tbody>\n",
       "    <tr>\n",
       "      <th>2013-11-22</th>\n",
       "      <td>517.2267</td>\n",
       "      <td>518.6031</td>\n",
       "      <td>515.1259</td>\n",
       "      <td>516.4609</td>\n",
       "      <td>2506114</td>\n",
       "    </tr>\n",
       "    <tr>\n",
       "      <th>2013-11-25</th>\n",
       "      <td>519.0986</td>\n",
       "      <td>527.1216</td>\n",
       "      <td>518.0288</td>\n",
       "      <td>523.4880</td>\n",
       "      <td>3222795</td>\n",
       "    </tr>\n",
       "    <tr>\n",
       "      <th>2013-11-26</th>\n",
       "      <td>524.8243</td>\n",
       "      <td>531.2808</td>\n",
       "      <td>521.9890</td>\n",
       "      <td>529.7342</td>\n",
       "      <td>4569794</td>\n",
       "    </tr>\n",
       "  </tbody>\n",
       "</table>\n",
       "</div>"
      ],
      "text/plain": [
       "                open      high       low     close   volume\n",
       "date                                                       \n",
       "2013-11-22  517.2267  518.6031  515.1259  516.4609  2506114\n",
       "2013-11-25  519.0986  527.1216  518.0288  523.4880  3222795\n",
       "2013-11-26  524.8243  531.2808  521.9890  529.7342  4569794"
      ]
     },
     "execution_count": 79,
     "metadata": {},
     "output_type": "execute_result"
    }
   ],
   "source": [
    "company=\"GOOGL\"\n",
    "start=\"2013-01-01\"\n",
    "end=\"2017-12-31\"\n",
    "googl=data.DataReader(name=company, data_source=\"iex\", start=start, end=end)\n",
    "googl.head(3)"
   ]
  },
  {
   "cell_type": "code",
   "execution_count": 80,
   "metadata": {
    "collapsed": true
   },
   "outputs": [
    {
     "data": {
      "text/plain": [
       "DatetimeIndex(['2013-11-22', '2013-11-25', '2013-11-26', '2013-11-27',\n",
       "               '2013-11-29', '2013-12-02', '2013-12-03', '2013-12-04',\n",
       "               '2013-12-05', '2013-12-06',\n",
       "               ...\n",
       "               '2017-12-15', '2017-12-18', '2017-12-19', '2017-12-20',\n",
       "               '2017-12-21', '2017-12-22', '2017-12-26', '2017-12-27',\n",
       "               '2017-12-28', '2017-12-29'],\n",
       "              dtype='datetime64[ns]', name='date', length=1033, freq=None)"
      ]
     },
     "execution_count": 80,
     "metadata": {},
     "output_type": "execute_result"
    }
   ],
   "source": [
    "googl.index=pd.to_datetime(googl.index)\n",
    "googl.index"
   ]
  },
  {
   "cell_type": "code",
   "execution_count": 81,
   "metadata": {},
   "outputs": [
    {
     "data": {
      "text/plain": [
       "pandas.core.indexes.datetimes.DatetimeIndex"
      ]
     },
     "execution_count": 81,
     "metadata": {},
     "output_type": "execute_result"
    }
   ],
   "source": [
    "type(googl.index)"
   ]
  },
  {
   "cell_type": "code",
   "execution_count": 82,
   "metadata": {},
   "outputs": [
    {
     "data": {
      "text/plain": [
       "Timestamp('2014-04-21 00:00:00')"
      ]
     },
     "execution_count": 82,
     "metadata": {},
     "output_type": "execute_result"
    }
   ],
   "source": [
    "someday=pd.to_datetime(googl.index[100])\n",
    "someday"
   ]
  },
  {
   "cell_type": "code",
   "execution_count": 83,
   "metadata": {},
   "outputs": [
    {
     "name": "stderr",
     "output_type": "stream",
     "text": [
      "E:\\anaconda\\lib\\site-packages\\ipykernel_launcher.py:4: FutureWarning: `weekday_name` is deprecated and will be removed in a future version. Use `day_name` instead\n",
      "  after removing the cwd from sys.path.\n"
     ]
    },
    {
     "data": {
      "text/plain": [
       "False"
      ]
     },
     "execution_count": 83,
     "metadata": {},
     "output_type": "execute_result"
    }
   ],
   "source": [
    "someday.day\n",
    "someday.month\n",
    "someday.year\n",
    "someday.weekday_name\n",
    "someday.is_month_start\n",
    "someday.is_month_end"
   ]
  },
  {
   "cell_type": "code",
   "execution_count": 84,
   "metadata": {},
   "outputs": [],
   "source": [
    "googl.insert(0, \"Day of Week\",googl.index.weekday_name)\n",
    "#creating (or) Inserts the  new column for week days by this \",googl.index.weekday_name\""
   ]
  },
  {
   "cell_type": "code",
   "execution_count": 85,
   "metadata": {},
   "outputs": [],
   "source": [
    "googl.insert(1, \"IS MONTH START\",googl.index.is_month_start)"
   ]
  },
  {
   "cell_type": "code",
   "execution_count": 86,
   "metadata": {},
   "outputs": [],
   "source": [
    "googl.insert(2, \"IS MONTH END\",googl.index.is_month_end)"
   ]
  },
  {
   "cell_type": "code",
   "execution_count": 87,
   "metadata": {
    "collapsed": true
   },
   "outputs": [
    {
     "data": {
      "text/html": [
       "<div>\n",
       "<style scoped>\n",
       "    .dataframe tbody tr th:only-of-type {\n",
       "        vertical-align: middle;\n",
       "    }\n",
       "\n",
       "    .dataframe tbody tr th {\n",
       "        vertical-align: top;\n",
       "    }\n",
       "\n",
       "    .dataframe thead th {\n",
       "        text-align: right;\n",
       "    }\n",
       "</style>\n",
       "<table border=\"1\" class=\"dataframe\">\n",
       "  <thead>\n",
       "    <tr style=\"text-align: right;\">\n",
       "      <th></th>\n",
       "      <th>Day of Week</th>\n",
       "      <th>IS MONTH START</th>\n",
       "      <th>IS MONTH END</th>\n",
       "      <th>open</th>\n",
       "      <th>high</th>\n",
       "      <th>low</th>\n",
       "      <th>close</th>\n",
       "      <th>volume</th>\n",
       "    </tr>\n",
       "    <tr>\n",
       "      <th>date</th>\n",
       "      <th></th>\n",
       "      <th></th>\n",
       "      <th></th>\n",
       "      <th></th>\n",
       "      <th></th>\n",
       "      <th></th>\n",
       "      <th></th>\n",
       "      <th></th>\n",
       "    </tr>\n",
       "  </thead>\n",
       "  <tbody>\n",
       "    <tr>\n",
       "      <th>2013-11-22</th>\n",
       "      <td>Friday</td>\n",
       "      <td>False</td>\n",
       "      <td>False</td>\n",
       "      <td>517.2267</td>\n",
       "      <td>518.6031</td>\n",
       "      <td>515.1259</td>\n",
       "      <td>516.4609</td>\n",
       "      <td>2506114</td>\n",
       "    </tr>\n",
       "    <tr>\n",
       "      <th>2013-11-25</th>\n",
       "      <td>Monday</td>\n",
       "      <td>False</td>\n",
       "      <td>False</td>\n",
       "      <td>519.0986</td>\n",
       "      <td>527.1216</td>\n",
       "      <td>518.0288</td>\n",
       "      <td>523.4880</td>\n",
       "      <td>3222795</td>\n",
       "    </tr>\n",
       "    <tr>\n",
       "      <th>2013-11-26</th>\n",
       "      <td>Tuesday</td>\n",
       "      <td>False</td>\n",
       "      <td>False</td>\n",
       "      <td>524.8243</td>\n",
       "      <td>531.2808</td>\n",
       "      <td>521.9890</td>\n",
       "      <td>529.7342</td>\n",
       "      <td>4569794</td>\n",
       "    </tr>\n",
       "    <tr>\n",
       "      <th>2013-11-27</th>\n",
       "      <td>Wednesday</td>\n",
       "      <td>False</td>\n",
       "      <td>False</td>\n",
       "      <td>531.5460</td>\n",
       "      <td>534.5340</td>\n",
       "      <td>530.5300</td>\n",
       "      <td>532.0866</td>\n",
       "      <td>2244873</td>\n",
       "    </tr>\n",
       "    <tr>\n",
       "      <th>2013-11-29</th>\n",
       "      <td>Friday</td>\n",
       "      <td>False</td>\n",
       "      <td>False</td>\n",
       "      <td>531.6111</td>\n",
       "      <td>533.8433</td>\n",
       "      <td>530.2547</td>\n",
       "      <td>530.3248</td>\n",
       "      <td>2383163</td>\n",
       "    </tr>\n",
       "  </tbody>\n",
       "</table>\n",
       "</div>"
      ],
      "text/plain": [
       "           Day of Week  IS MONTH START  IS MONTH END      open      high  \\\n",
       "date                                                                       \n",
       "2013-11-22      Friday           False         False  517.2267  518.6031   \n",
       "2013-11-25      Monday           False         False  519.0986  527.1216   \n",
       "2013-11-26     Tuesday           False         False  524.8243  531.2808   \n",
       "2013-11-27   Wednesday           False         False  531.5460  534.5340   \n",
       "2013-11-29      Friday           False         False  531.6111  533.8433   \n",
       "\n",
       "                 low     close   volume  \n",
       "date                                     \n",
       "2013-11-22  515.1259  516.4609  2506114  \n",
       "2013-11-25  518.0288  523.4880  3222795  \n",
       "2013-11-26  521.9890  529.7342  4569794  \n",
       "2013-11-27  530.5300  532.0866  2244873  \n",
       "2013-11-29  530.2547  530.3248  2383163  "
      ]
     },
     "execution_count": 87,
     "metadata": {},
     "output_type": "execute_result"
    }
   ],
   "source": [
    "googl.head()"
   ]
  },
  {
   "cell_type": "code",
   "execution_count": 88,
   "metadata": {
    "collapsed": true
   },
   "outputs": [
    {
     "data": {
      "text/html": [
       "<div>\n",
       "<style scoped>\n",
       "    .dataframe tbody tr th:only-of-type {\n",
       "        vertical-align: middle;\n",
       "    }\n",
       "\n",
       "    .dataframe tbody tr th {\n",
       "        vertical-align: top;\n",
       "    }\n",
       "\n",
       "    .dataframe thead th {\n",
       "        text-align: right;\n",
       "    }\n",
       "</style>\n",
       "<table border=\"1\" class=\"dataframe\">\n",
       "  <thead>\n",
       "    <tr style=\"text-align: right;\">\n",
       "      <th></th>\n",
       "      <th>Day of Week</th>\n",
       "      <th>IS MONTH START</th>\n",
       "      <th>IS MONTH END</th>\n",
       "      <th>open</th>\n",
       "      <th>high</th>\n",
       "      <th>low</th>\n",
       "      <th>close</th>\n",
       "      <th>volume</th>\n",
       "    </tr>\n",
       "    <tr>\n",
       "      <th>date</th>\n",
       "      <th></th>\n",
       "      <th></th>\n",
       "      <th></th>\n",
       "      <th></th>\n",
       "      <th></th>\n",
       "      <th></th>\n",
       "      <th></th>\n",
       "      <th></th>\n",
       "    </tr>\n",
       "  </thead>\n",
       "  <tbody>\n",
       "    <tr>\n",
       "      <th>2014-04-01</th>\n",
       "      <td>Tuesday</td>\n",
       "      <td>True</td>\n",
       "      <td>False</td>\n",
       "      <td>560.6951</td>\n",
       "      <td>569.3188</td>\n",
       "      <td>559.559</td>\n",
       "      <td>568.0124</td>\n",
       "      <td>4360891</td>\n",
       "    </tr>\n",
       "    <tr>\n",
       "      <th>2014-05-01</th>\n",
       "      <td>Thursday</td>\n",
       "      <td>True</td>\n",
       "      <td>False</td>\n",
       "      <td>534.2500</td>\n",
       "      <td>539.9100</td>\n",
       "      <td>532.860</td>\n",
       "      <td>538.5300</td>\n",
       "      <td>2004375</td>\n",
       "    </tr>\n",
       "    <tr>\n",
       "      <th>2014-07-01</th>\n",
       "      <td>Tuesday</td>\n",
       "      <td>True</td>\n",
       "      <td>False</td>\n",
       "      <td>587.6500</td>\n",
       "      <td>593.6600</td>\n",
       "      <td>586.290</td>\n",
       "      <td>591.4900</td>\n",
       "      <td>1644628</td>\n",
       "    </tr>\n",
       "    <tr>\n",
       "      <th>2014-08-01</th>\n",
       "      <td>Friday</td>\n",
       "      <td>True</td>\n",
       "      <td>False</td>\n",
       "      <td>578.5550</td>\n",
       "      <td>583.4300</td>\n",
       "      <td>570.300</td>\n",
       "      <td>573.6000</td>\n",
       "      <td>2213790</td>\n",
       "    </tr>\n",
       "    <tr>\n",
       "      <th>2014-10-01</th>\n",
       "      <td>Wednesday</td>\n",
       "      <td>True</td>\n",
       "      <td>False</td>\n",
       "      <td>586.8000</td>\n",
       "      <td>588.7200</td>\n",
       "      <td>578.020</td>\n",
       "      <td>579.6300</td>\n",
       "      <td>1449686</td>\n",
       "    </tr>\n",
       "    <tr>\n",
       "      <th>2014-12-01</th>\n",
       "      <td>Monday</td>\n",
       "      <td>True</td>\n",
       "      <td>False</td>\n",
       "      <td>545.0900</td>\n",
       "      <td>548.7900</td>\n",
       "      <td>538.620</td>\n",
       "      <td>539.6500</td>\n",
       "      <td>1994399</td>\n",
       "    </tr>\n",
       "    <tr>\n",
       "      <th>2015-04-01</th>\n",
       "      <td>Wednesday</td>\n",
       "      <td>True</td>\n",
       "      <td>False</td>\n",
       "      <td>554.8300</td>\n",
       "      <td>558.5000</td>\n",
       "      <td>546.030</td>\n",
       "      <td>549.4900</td>\n",
       "      <td>1945090</td>\n",
       "    </tr>\n",
       "    <tr>\n",
       "      <th>2015-05-01</th>\n",
       "      <td>Friday</td>\n",
       "      <td>True</td>\n",
       "      <td>False</td>\n",
       "      <td>550.5100</td>\n",
       "      <td>551.2200</td>\n",
       "      <td>543.850</td>\n",
       "      <td>551.1600</td>\n",
       "      <td>1828566</td>\n",
       "    </tr>\n",
       "    <tr>\n",
       "      <th>2015-06-01</th>\n",
       "      <td>Monday</td>\n",
       "      <td>True</td>\n",
       "      <td>False</td>\n",
       "      <td>548.7300</td>\n",
       "      <td>550.5700</td>\n",
       "      <td>543.580</td>\n",
       "      <td>549.2100</td>\n",
       "      <td>1660500</td>\n",
       "    </tr>\n",
       "    <tr>\n",
       "      <th>2015-07-01</th>\n",
       "      <td>Wednesday</td>\n",
       "      <td>True</td>\n",
       "      <td>False</td>\n",
       "      <td>543.6600</td>\n",
       "      <td>545.8100</td>\n",
       "      <td>539.760</td>\n",
       "      <td>543.3000</td>\n",
       "      <td>1537973</td>\n",
       "    </tr>\n",
       "    <tr>\n",
       "      <th>2015-09-01</th>\n",
       "      <td>Tuesday</td>\n",
       "      <td>True</td>\n",
       "      <td>False</td>\n",
       "      <td>633.6600</td>\n",
       "      <td>644.4400</td>\n",
       "      <td>625.060</td>\n",
       "      <td>629.5600</td>\n",
       "      <td>2572884</td>\n",
       "    </tr>\n",
       "    <tr>\n",
       "      <th>2015-10-01</th>\n",
       "      <td>Thursday</td>\n",
       "      <td>True</td>\n",
       "      <td>False</td>\n",
       "      <td>637.9400</td>\n",
       "      <td>643.8400</td>\n",
       "      <td>631.115</td>\n",
       "      <td>642.0000</td>\n",
       "      <td>2125315</td>\n",
       "    </tr>\n",
       "    <tr>\n",
       "      <th>2015-12-01</th>\n",
       "      <td>Tuesday</td>\n",
       "      <td>True</td>\n",
       "      <td>False</td>\n",
       "      <td>766.9400</td>\n",
       "      <td>785.0000</td>\n",
       "      <td>765.950</td>\n",
       "      <td>783.7900</td>\n",
       "      <td>2019864</td>\n",
       "    </tr>\n",
       "    <tr>\n",
       "      <th>2016-02-01</th>\n",
       "      <td>Monday</td>\n",
       "      <td>True</td>\n",
       "      <td>False</td>\n",
       "      <td>771.2600</td>\n",
       "      <td>777.5900</td>\n",
       "      <td>761.380</td>\n",
       "      <td>770.7700</td>\n",
       "      <td>5576089</td>\n",
       "    </tr>\n",
       "    <tr>\n",
       "      <th>2016-03-01</th>\n",
       "      <td>Tuesday</td>\n",
       "      <td>True</td>\n",
       "      <td>False</td>\n",
       "      <td>721.3000</td>\n",
       "      <td>742.3300</td>\n",
       "      <td>718.640</td>\n",
       "      <td>742.1700</td>\n",
       "      <td>3005553</td>\n",
       "    </tr>\n",
       "    <tr>\n",
       "      <th>2016-04-01</th>\n",
       "      <td>Friday</td>\n",
       "      <td>True</td>\n",
       "      <td>False</td>\n",
       "      <td>757.1600</td>\n",
       "      <td>770.0400</td>\n",
       "      <td>755.200</td>\n",
       "      <td>769.6700</td>\n",
       "      <td>1583698</td>\n",
       "    </tr>\n",
       "    <tr>\n",
       "      <th>2016-06-01</th>\n",
       "      <td>Wednesday</td>\n",
       "      <td>True</td>\n",
       "      <td>False</td>\n",
       "      <td>748.4700</td>\n",
       "      <td>751.3700</td>\n",
       "      <td>744.340</td>\n",
       "      <td>748.4600</td>\n",
       "      <td>1039847</td>\n",
       "    </tr>\n",
       "    <tr>\n",
       "      <th>2016-07-01</th>\n",
       "      <td>Friday</td>\n",
       "      <td>True</td>\n",
       "      <td>False</td>\n",
       "      <td>705.1000</td>\n",
       "      <td>712.5300</td>\n",
       "      <td>703.730</td>\n",
       "      <td>710.2500</td>\n",
       "      <td>1549160</td>\n",
       "    </tr>\n",
       "    <tr>\n",
       "      <th>2016-08-01</th>\n",
       "      <td>Monday</td>\n",
       "      <td>True</td>\n",
       "      <td>False</td>\n",
       "      <td>786.6700</td>\n",
       "      <td>807.4900</td>\n",
       "      <td>785.040</td>\n",
       "      <td>800.9400</td>\n",
       "      <td>3029658</td>\n",
       "    </tr>\n",
       "    <tr>\n",
       "      <th>2016-09-01</th>\n",
       "      <td>Thursday</td>\n",
       "      <td>True</td>\n",
       "      <td>False</td>\n",
       "      <td>791.9800</td>\n",
       "      <td>792.8900</td>\n",
       "      <td>786.330</td>\n",
       "      <td>791.4000</td>\n",
       "      <td>1303460</td>\n",
       "    </tr>\n",
       "    <tr>\n",
       "      <th>2016-11-01</th>\n",
       "      <td>Tuesday</td>\n",
       "      <td>True</td>\n",
       "      <td>False</td>\n",
       "      <td>810.8700</td>\n",
       "      <td>813.9600</td>\n",
       "      <td>798.260</td>\n",
       "      <td>805.4800</td>\n",
       "      <td>2355890</td>\n",
       "    </tr>\n",
       "    <tr>\n",
       "      <th>2016-12-01</th>\n",
       "      <td>Thursday</td>\n",
       "      <td>True</td>\n",
       "      <td>False</td>\n",
       "      <td>778.5500</td>\n",
       "      <td>778.6000</td>\n",
       "      <td>753.360</td>\n",
       "      <td>764.3300</td>\n",
       "      <td>2867074</td>\n",
       "    </tr>\n",
       "    <tr>\n",
       "      <th>2017-02-01</th>\n",
       "      <td>Wednesday</td>\n",
       "      <td>True</td>\n",
       "      <td>False</td>\n",
       "      <td>824.0000</td>\n",
       "      <td>824.0000</td>\n",
       "      <td>812.250</td>\n",
       "      <td>815.2400</td>\n",
       "      <td>2251047</td>\n",
       "    </tr>\n",
       "    <tr>\n",
       "      <th>2017-03-01</th>\n",
       "      <td>Wednesday</td>\n",
       "      <td>True</td>\n",
       "      <td>False</td>\n",
       "      <td>851.3800</td>\n",
       "      <td>858.0000</td>\n",
       "      <td>849.020</td>\n",
       "      <td>856.7500</td>\n",
       "      <td>1818671</td>\n",
       "    </tr>\n",
       "    <tr>\n",
       "      <th>2017-05-01</th>\n",
       "      <td>Monday</td>\n",
       "      <td>True</td>\n",
       "      <td>False</td>\n",
       "      <td>924.1500</td>\n",
       "      <td>935.8200</td>\n",
       "      <td>920.800</td>\n",
       "      <td>932.8200</td>\n",
       "      <td>2327782</td>\n",
       "    </tr>\n",
       "    <tr>\n",
       "      <th>2017-06-01</th>\n",
       "      <td>Thursday</td>\n",
       "      <td>True</td>\n",
       "      <td>False</td>\n",
       "      <td>990.9600</td>\n",
       "      <td>993.1400</td>\n",
       "      <td>981.290</td>\n",
       "      <td>988.2900</td>\n",
       "      <td>1306384</td>\n",
       "    </tr>\n",
       "    <tr>\n",
       "      <th>2017-08-01</th>\n",
       "      <td>Tuesday</td>\n",
       "      <td>True</td>\n",
       "      <td>False</td>\n",
       "      <td>947.8100</td>\n",
       "      <td>954.4900</td>\n",
       "      <td>944.960</td>\n",
       "      <td>946.5600</td>\n",
       "      <td>1332456</td>\n",
       "    </tr>\n",
       "    <tr>\n",
       "      <th>2017-09-01</th>\n",
       "      <td>Friday</td>\n",
       "      <td>True</td>\n",
       "      <td>False</td>\n",
       "      <td>957.4700</td>\n",
       "      <td>958.3300</td>\n",
       "      <td>950.280</td>\n",
       "      <td>951.9900</td>\n",
       "      <td>1042885</td>\n",
       "    </tr>\n",
       "    <tr>\n",
       "      <th>2017-11-01</th>\n",
       "      <td>Wednesday</td>\n",
       "      <td>True</td>\n",
       "      <td>False</td>\n",
       "      <td>1036.3200</td>\n",
       "      <td>1047.8600</td>\n",
       "      <td>1034.000</td>\n",
       "      <td>1042.6000</td>\n",
       "      <td>2163073</td>\n",
       "    </tr>\n",
       "    <tr>\n",
       "      <th>2017-12-01</th>\n",
       "      <td>Friday</td>\n",
       "      <td>True</td>\n",
       "      <td>False</td>\n",
       "      <td>1030.4100</td>\n",
       "      <td>1037.2400</td>\n",
       "      <td>1016.900</td>\n",
       "      <td>1025.0700</td>\n",
       "      <td>1888081</td>\n",
       "    </tr>\n",
       "  </tbody>\n",
       "</table>\n",
       "</div>"
      ],
      "text/plain": [
       "           Day of Week  IS MONTH START  IS MONTH END       open       high  \\\n",
       "date                                                                         \n",
       "2014-04-01     Tuesday            True         False   560.6951   569.3188   \n",
       "2014-05-01    Thursday            True         False   534.2500   539.9100   \n",
       "2014-07-01     Tuesday            True         False   587.6500   593.6600   \n",
       "2014-08-01      Friday            True         False   578.5550   583.4300   \n",
       "2014-10-01   Wednesday            True         False   586.8000   588.7200   \n",
       "2014-12-01      Monday            True         False   545.0900   548.7900   \n",
       "2015-04-01   Wednesday            True         False   554.8300   558.5000   \n",
       "2015-05-01      Friday            True         False   550.5100   551.2200   \n",
       "2015-06-01      Monday            True         False   548.7300   550.5700   \n",
       "2015-07-01   Wednesday            True         False   543.6600   545.8100   \n",
       "2015-09-01     Tuesday            True         False   633.6600   644.4400   \n",
       "2015-10-01    Thursday            True         False   637.9400   643.8400   \n",
       "2015-12-01     Tuesday            True         False   766.9400   785.0000   \n",
       "2016-02-01      Monday            True         False   771.2600   777.5900   \n",
       "2016-03-01     Tuesday            True         False   721.3000   742.3300   \n",
       "2016-04-01      Friday            True         False   757.1600   770.0400   \n",
       "2016-06-01   Wednesday            True         False   748.4700   751.3700   \n",
       "2016-07-01      Friday            True         False   705.1000   712.5300   \n",
       "2016-08-01      Monday            True         False   786.6700   807.4900   \n",
       "2016-09-01    Thursday            True         False   791.9800   792.8900   \n",
       "2016-11-01     Tuesday            True         False   810.8700   813.9600   \n",
       "2016-12-01    Thursday            True         False   778.5500   778.6000   \n",
       "2017-02-01   Wednesday            True         False   824.0000   824.0000   \n",
       "2017-03-01   Wednesday            True         False   851.3800   858.0000   \n",
       "2017-05-01      Monday            True         False   924.1500   935.8200   \n",
       "2017-06-01    Thursday            True         False   990.9600   993.1400   \n",
       "2017-08-01     Tuesday            True         False   947.8100   954.4900   \n",
       "2017-09-01      Friday            True         False   957.4700   958.3300   \n",
       "2017-11-01   Wednesday            True         False  1036.3200  1047.8600   \n",
       "2017-12-01      Friday            True         False  1030.4100  1037.2400   \n",
       "\n",
       "                 low      close   volume  \n",
       "date                                      \n",
       "2014-04-01   559.559   568.0124  4360891  \n",
       "2014-05-01   532.860   538.5300  2004375  \n",
       "2014-07-01   586.290   591.4900  1644628  \n",
       "2014-08-01   570.300   573.6000  2213790  \n",
       "2014-10-01   578.020   579.6300  1449686  \n",
       "2014-12-01   538.620   539.6500  1994399  \n",
       "2015-04-01   546.030   549.4900  1945090  \n",
       "2015-05-01   543.850   551.1600  1828566  \n",
       "2015-06-01   543.580   549.2100  1660500  \n",
       "2015-07-01   539.760   543.3000  1537973  \n",
       "2015-09-01   625.060   629.5600  2572884  \n",
       "2015-10-01   631.115   642.0000  2125315  \n",
       "2015-12-01   765.950   783.7900  2019864  \n",
       "2016-02-01   761.380   770.7700  5576089  \n",
       "2016-03-01   718.640   742.1700  3005553  \n",
       "2016-04-01   755.200   769.6700  1583698  \n",
       "2016-06-01   744.340   748.4600  1039847  \n",
       "2016-07-01   703.730   710.2500  1549160  \n",
       "2016-08-01   785.040   800.9400  3029658  \n",
       "2016-09-01   786.330   791.4000  1303460  \n",
       "2016-11-01   798.260   805.4800  2355890  \n",
       "2016-12-01   753.360   764.3300  2867074  \n",
       "2017-02-01   812.250   815.2400  2251047  \n",
       "2017-03-01   849.020   856.7500  1818671  \n",
       "2017-05-01   920.800   932.8200  2327782  \n",
       "2017-06-01   981.290   988.2900  1306384  \n",
       "2017-08-01   944.960   946.5600  1332456  \n",
       "2017-09-01   950.280   951.9900  1042885  \n",
       "2017-11-01  1034.000  1042.6000  2163073  \n",
       "2017-12-01  1016.900  1025.0700  1888081  "
      ]
     },
     "execution_count": 88,
     "metadata": {},
     "output_type": "execute_result"
    }
   ],
   "source": [
    "googl[googl[\"IS MONTH START\"]] # returns starting month trade."
   ]
  },
  {
   "cell_type": "markdown",
   "metadata": {},
   "source": [
    "# THE.trunctae() method\n",
    "\n",
    "Used for slicing operations of trade."
   ]
  },
  {
   "cell_type": "code",
   "execution_count": 103,
   "metadata": {},
   "outputs": [
    {
     "data": {
      "text/html": [
       "<div>\n",
       "<style scoped>\n",
       "    .dataframe tbody tr th:only-of-type {\n",
       "        vertical-align: middle;\n",
       "    }\n",
       "\n",
       "    .dataframe tbody tr th {\n",
       "        vertical-align: top;\n",
       "    }\n",
       "\n",
       "    .dataframe thead th {\n",
       "        text-align: right;\n",
       "    }\n",
       "</style>\n",
       "<table border=\"1\" class=\"dataframe\">\n",
       "  <thead>\n",
       "    <tr style=\"text-align: right;\">\n",
       "      <th></th>\n",
       "      <th>open</th>\n",
       "      <th>high</th>\n",
       "      <th>low</th>\n",
       "      <th>close</th>\n",
       "      <th>volume</th>\n",
       "    </tr>\n",
       "    <tr>\n",
       "      <th>date</th>\n",
       "      <th></th>\n",
       "      <th></th>\n",
       "      <th></th>\n",
       "      <th></th>\n",
       "      <th></th>\n",
       "    </tr>\n",
       "  </thead>\n",
       "  <tbody>\n",
       "    <tr>\n",
       "      <th>2013-11-22</th>\n",
       "      <td>517.2267</td>\n",
       "      <td>518.6031</td>\n",
       "      <td>515.1259</td>\n",
       "      <td>516.4609</td>\n",
       "      <td>2506114</td>\n",
       "    </tr>\n",
       "    <tr>\n",
       "      <th>2013-11-25</th>\n",
       "      <td>519.0986</td>\n",
       "      <td>527.1216</td>\n",
       "      <td>518.0288</td>\n",
       "      <td>523.4880</td>\n",
       "      <td>3222795</td>\n",
       "    </tr>\n",
       "    <tr>\n",
       "      <th>2013-11-26</th>\n",
       "      <td>524.8243</td>\n",
       "      <td>531.2808</td>\n",
       "      <td>521.9890</td>\n",
       "      <td>529.7342</td>\n",
       "      <td>4569794</td>\n",
       "    </tr>\n",
       "  </tbody>\n",
       "</table>\n",
       "</div>"
      ],
      "text/plain": [
       "                open      high       low     close   volume\n",
       "date                                                       \n",
       "2013-11-22  517.2267  518.6031  515.1259  516.4609  2506114\n",
       "2013-11-25  519.0986  527.1216  518.0288  523.4880  3222795\n",
       "2013-11-26  524.8243  531.2808  521.9890  529.7342  4569794"
      ]
     },
     "execution_count": 103,
     "metadata": {},
     "output_type": "execute_result"
    }
   ],
   "source": [
    "company=\"GOOGL\"\n",
    "start=\"2013-01-01\"\n",
    "end=\"2017-12-31\"\n",
    "googl=data.DataReader(name=company, data_source=\"iex\", start=start, end=end)\n",
    "googl.head(3)"
   ]
  },
  {
   "cell_type": "code",
   "execution_count": 105,
   "metadata": {},
   "outputs": [],
   "source": [
    "googl.index=pd.to_datetime(googl.index)"
   ]
  },
  {
   "cell_type": "code",
   "execution_count": 108,
   "metadata": {
    "collapsed": true
   },
   "outputs": [
    {
     "data": {
      "text/html": [
       "<div>\n",
       "<style scoped>\n",
       "    .dataframe tbody tr th:only-of-type {\n",
       "        vertical-align: middle;\n",
       "    }\n",
       "\n",
       "    .dataframe tbody tr th {\n",
       "        vertical-align: top;\n",
       "    }\n",
       "\n",
       "    .dataframe thead th {\n",
       "        text-align: right;\n",
       "    }\n",
       "</style>\n",
       "<table border=\"1\" class=\"dataframe\">\n",
       "  <thead>\n",
       "    <tr style=\"text-align: right;\">\n",
       "      <th></th>\n",
       "      <th>open</th>\n",
       "      <th>high</th>\n",
       "      <th>low</th>\n",
       "      <th>close</th>\n",
       "      <th>volume</th>\n",
       "    </tr>\n",
       "    <tr>\n",
       "      <th>date</th>\n",
       "      <th></th>\n",
       "      <th></th>\n",
       "      <th></th>\n",
       "      <th></th>\n",
       "      <th></th>\n",
       "    </tr>\n",
       "  </thead>\n",
       "  <tbody>\n",
       "    <tr>\n",
       "      <th>2015-02-05</th>\n",
       "      <td>527.93</td>\n",
       "      <td>530.6900</td>\n",
       "      <td>525.6400</td>\n",
       "      <td>529.830</td>\n",
       "      <td>1658751</td>\n",
       "    </tr>\n",
       "    <tr>\n",
       "      <th>2015-02-06</th>\n",
       "      <td>531.01</td>\n",
       "      <td>540.2150</td>\n",
       "      <td>528.6500</td>\n",
       "      <td>533.875</td>\n",
       "      <td>2146922</td>\n",
       "    </tr>\n",
       "    <tr>\n",
       "      <th>2015-02-09</th>\n",
       "      <td>531.06</td>\n",
       "      <td>533.8800</td>\n",
       "      <td>527.5500</td>\n",
       "      <td>529.280</td>\n",
       "      <td>1515687</td>\n",
       "    </tr>\n",
       "    <tr>\n",
       "      <th>2015-02-10</th>\n",
       "      <td>532.15</td>\n",
       "      <td>541.0000</td>\n",
       "      <td>529.1725</td>\n",
       "      <td>540.160</td>\n",
       "      <td>2371468</td>\n",
       "    </tr>\n",
       "    <tr>\n",
       "      <th>2015-02-11</th>\n",
       "      <td>539.73</td>\n",
       "      <td>541.9500</td>\n",
       "      <td>536.0000</td>\n",
       "      <td>538.000</td>\n",
       "      <td>1915336</td>\n",
       "    </tr>\n",
       "    <tr>\n",
       "      <th>2015-02-12</th>\n",
       "      <td>539.66</td>\n",
       "      <td>548.3400</td>\n",
       "      <td>537.0000</td>\n",
       "      <td>546.010</td>\n",
       "      <td>2429520</td>\n",
       "    </tr>\n",
       "    <tr>\n",
       "      <th>2015-02-13</th>\n",
       "      <td>547.51</td>\n",
       "      <td>552.5400</td>\n",
       "      <td>546.6000</td>\n",
       "      <td>551.160</td>\n",
       "      <td>2369115</td>\n",
       "    </tr>\n",
       "    <tr>\n",
       "      <th>2015-02-17</th>\n",
       "      <td>551.16</td>\n",
       "      <td>553.0000</td>\n",
       "      <td>543.2600</td>\n",
       "      <td>545.010</td>\n",
       "      <td>1958679</td>\n",
       "    </tr>\n",
       "    <tr>\n",
       "      <th>2015-02-18</th>\n",
       "      <td>543.82</td>\n",
       "      <td>547.5500</td>\n",
       "      <td>539.5500</td>\n",
       "      <td>542.650</td>\n",
       "      <td>1558153</td>\n",
       "    </tr>\n",
       "    <tr>\n",
       "      <th>2015-02-19</th>\n",
       "      <td>542.47</td>\n",
       "      <td>546.8600</td>\n",
       "      <td>540.7500</td>\n",
       "      <td>546.450</td>\n",
       "      <td>1541669</td>\n",
       "    </tr>\n",
       "    <tr>\n",
       "      <th>2015-02-20</th>\n",
       "      <td>547.58</td>\n",
       "      <td>547.5800</td>\n",
       "      <td>538.1000</td>\n",
       "      <td>541.800</td>\n",
       "      <td>1911732</td>\n",
       "    </tr>\n",
       "    <tr>\n",
       "      <th>2015-02-23</th>\n",
       "      <td>539.00</td>\n",
       "      <td>539.3000</td>\n",
       "      <td>532.0000</td>\n",
       "      <td>535.000</td>\n",
       "      <td>1645276</td>\n",
       "    </tr>\n",
       "    <tr>\n",
       "      <th>2015-02-24</th>\n",
       "      <td>531.55</td>\n",
       "      <td>539.4000</td>\n",
       "      <td>531.0000</td>\n",
       "      <td>538.650</td>\n",
       "      <td>1421373</td>\n",
       "    </tr>\n",
       "    <tr>\n",
       "      <th>2015-02-25</th>\n",
       "      <td>538.44</td>\n",
       "      <td>549.5700</td>\n",
       "      <td>538.0100</td>\n",
       "      <td>547.330</td>\n",
       "      <td>2041827</td>\n",
       "    </tr>\n",
       "    <tr>\n",
       "      <th>2015-02-26</th>\n",
       "      <td>545.74</td>\n",
       "      <td>560.1299</td>\n",
       "      <td>545.0900</td>\n",
       "      <td>559.290</td>\n",
       "      <td>2701584</td>\n",
       "    </tr>\n",
       "    <tr>\n",
       "      <th>2015-02-27</th>\n",
       "      <td>558.15</td>\n",
       "      <td>569.4200</td>\n",
       "      <td>557.0300</td>\n",
       "      <td>562.630</td>\n",
       "      <td>3416445</td>\n",
       "    </tr>\n",
       "  </tbody>\n",
       "</table>\n",
       "</div>"
      ],
      "text/plain": [
       "              open      high       low    close   volume\n",
       "date                                                    \n",
       "2015-02-05  527.93  530.6900  525.6400  529.830  1658751\n",
       "2015-02-06  531.01  540.2150  528.6500  533.875  2146922\n",
       "2015-02-09  531.06  533.8800  527.5500  529.280  1515687\n",
       "2015-02-10  532.15  541.0000  529.1725  540.160  2371468\n",
       "2015-02-11  539.73  541.9500  536.0000  538.000  1915336\n",
       "2015-02-12  539.66  548.3400  537.0000  546.010  2429520\n",
       "2015-02-13  547.51  552.5400  546.6000  551.160  2369115\n",
       "2015-02-17  551.16  553.0000  543.2600  545.010  1958679\n",
       "2015-02-18  543.82  547.5500  539.5500  542.650  1558153\n",
       "2015-02-19  542.47  546.8600  540.7500  546.450  1541669\n",
       "2015-02-20  547.58  547.5800  538.1000  541.800  1911732\n",
       "2015-02-23  539.00  539.3000  532.0000  535.000  1645276\n",
       "2015-02-24  531.55  539.4000  531.0000  538.650  1421373\n",
       "2015-02-25  538.44  549.5700  538.0100  547.330  2041827\n",
       "2015-02-26  545.74  560.1299  545.0900  559.290  2701584\n",
       "2015-02-27  558.15  569.4200  557.0300  562.630  3416445"
      ]
     },
     "execution_count": 108,
     "metadata": {},
     "output_type": "execute_result"
    }
   ],
   "source": [
    "googl.truncate(before=\"2015-02-05\", after=\"2015-02-28\")\n",
    "#returns dataframe of dates from \"2015-02-05\" to\"2015-02-28\""
   ]
  },
  {
   "cell_type": "markdown",
   "metadata": {},
   "source": [
    "# The pd.DateOffset Objects\n",
    "\n",
    "Here we are going to manuplate the stock dataframes by operations using dataoffset() function. .\n",
    "\n",
    "Here we are using datetime objects in start and end so, dt.datetime.now() gets current time and date we can give date object also for start and end unless only string"
   ]
  },
  {
   "cell_type": "code",
   "execution_count": 121,
   "metadata": {},
   "outputs": [
    {
     "data": {
      "text/html": [
       "<div>\n",
       "<style scoped>\n",
       "    .dataframe tbody tr th:only-of-type {\n",
       "        vertical-align: middle;\n",
       "    }\n",
       "\n",
       "    .dataframe tbody tr th {\n",
       "        vertical-align: top;\n",
       "    }\n",
       "\n",
       "    .dataframe thead th {\n",
       "        text-align: right;\n",
       "    }\n",
       "</style>\n",
       "<table border=\"1\" class=\"dataframe\">\n",
       "  <thead>\n",
       "    <tr style=\"text-align: right;\">\n",
       "      <th></th>\n",
       "      <th>open</th>\n",
       "      <th>high</th>\n",
       "      <th>low</th>\n",
       "      <th>close</th>\n",
       "      <th>volume</th>\n",
       "    </tr>\n",
       "    <tr>\n",
       "      <th>date</th>\n",
       "      <th></th>\n",
       "      <th></th>\n",
       "      <th></th>\n",
       "      <th></th>\n",
       "      <th></th>\n",
       "    </tr>\n",
       "  </thead>\n",
       "  <tbody>\n",
       "    <tr>\n",
       "      <th>2015-01-02</th>\n",
       "      <td>42.5088</td>\n",
       "      <td>43.2012</td>\n",
       "      <td>42.3994</td>\n",
       "      <td>42.5999</td>\n",
       "      <td>27913852</td>\n",
       "    </tr>\n",
       "    <tr>\n",
       "      <th>2015-01-05</th>\n",
       "      <td>42.2446</td>\n",
       "      <td>42.5725</td>\n",
       "      <td>42.1352</td>\n",
       "      <td>42.2036</td>\n",
       "      <td>39673865</td>\n",
       "    </tr>\n",
       "    <tr>\n",
       "      <th>2015-01-06</th>\n",
       "      <td>42.2537</td>\n",
       "      <td>42.5899</td>\n",
       "      <td>41.4884</td>\n",
       "      <td>41.5886</td>\n",
       "      <td>36447854</td>\n",
       "    </tr>\n",
       "    <tr>\n",
       "      <th>2015-01-07</th>\n",
       "      <td>41.8893</td>\n",
       "      <td>42.3266</td>\n",
       "      <td>41.4429</td>\n",
       "      <td>42.1170</td>\n",
       "      <td>29114061</td>\n",
       "    </tr>\n",
       "    <tr>\n",
       "      <th>2015-01-08</th>\n",
       "      <td>42.5908</td>\n",
       "      <td>43.5017</td>\n",
       "      <td>42.5634</td>\n",
       "      <td>43.3560</td>\n",
       "      <td>29645202</td>\n",
       "    </tr>\n",
       "  </tbody>\n",
       "</table>\n",
       "</div>"
      ],
      "text/plain": [
       "               open     high      low    close    volume\n",
       "date                                                    \n",
       "2015-01-02  42.5088  43.2012  42.3994  42.5999  27913852\n",
       "2015-01-05  42.2446  42.5725  42.1352  42.2036  39673865\n",
       "2015-01-06  42.2537  42.5899  41.4884  41.5886  36447854\n",
       "2015-01-07  41.8893  42.3266  41.4429  42.1170  29114061\n",
       "2015-01-08  42.5908  43.5017  42.5634  43.3560  29645202"
      ]
     },
     "execution_count": 121,
     "metadata": {},
     "output_type": "execute_result"
    }
   ],
   "source": [
    "msft=data.DataReader(name=\"MSFT\",data_source=\"iex\",start=dt.date(2015,1,1),end=dt.datetime.now())\n",
    "# gets stocks form 2015 to present day.\n",
    "msft.index=pd.to_datetime(msft.index)\n",
    "msft.head()"
   ]
  },
  {
   "cell_type": "code",
   "execution_count": 122,
   "metadata": {},
   "outputs": [
    {
     "data": {
      "text/plain": [
       "DatetimeIndex(['2014-08-02', '2014-08-05', '2014-08-06', '2014-08-07',\n",
       "               '2014-08-08', '2014-08-09', '2014-08-12', '2014-08-13',\n",
       "               '2014-08-14', '2014-08-15',\n",
       "               ...\n",
       "               '2018-06-08', '2018-06-09', '2018-06-12', '2018-06-13',\n",
       "               '2018-06-14', '2018-06-15', '2018-06-16', '2018-06-19',\n",
       "               '2018-06-20', '2018-06-21'],\n",
       "              dtype='datetime64[ns]', name='date', length=981, freq=None)"
      ]
     },
     "execution_count": 122,
     "metadata": {},
     "output_type": "execute_result"
    }
   ],
   "source": [
    "#operations using dataoffset() function.\n",
    "msft.index+pd.DateOffset(days=5) #adds five days to every index of date.\n",
    "msft.index+pd.DateOffset(weeks=5) #adds five weeks to every index of date.\n",
    "msft.index-pd.DateOffset(months=5) #subtracts five dmonths to every index of date."
   ]
  },
  {
   "cell_type": "code",
   "execution_count": 124,
   "metadata": {},
   "outputs": [
    {
     "data": {
      "text/plain": [
       "DatetimeIndex(['2015-01-02 06:00:00', '2015-01-05 06:00:00',\n",
       "               '2015-01-06 06:00:00', '2015-01-07 06:00:00',\n",
       "               '2015-01-08 06:00:00', '2015-01-09 06:00:00',\n",
       "               '2015-01-12 06:00:00', '2015-01-13 06:00:00',\n",
       "               '2015-01-14 06:00:00', '2015-01-15 06:00:00',\n",
       "               ...\n",
       "               '2018-11-08 06:00:00', '2018-11-09 06:00:00',\n",
       "               '2018-11-12 06:00:00', '2018-11-13 06:00:00',\n",
       "               '2018-11-14 06:00:00', '2018-11-15 06:00:00',\n",
       "               '2018-11-16 06:00:00', '2018-11-19 06:00:00',\n",
       "               '2018-11-20 06:00:00', '2018-11-21 06:00:00'],\n",
       "              dtype='datetime64[ns]', name='date', length=981, freq=None)"
      ]
     },
     "execution_count": 124,
     "metadata": {},
     "output_type": "execute_result"
    }
   ],
   "source": [
    "msft.index+pd.DateOffset(hours=6) #subtracts six hours to every index of date."
   ]
  },
  {
   "cell_type": "code",
   "execution_count": 133,
   "metadata": {},
   "outputs": [
    {
     "data": {
      "text/plain": [
       "DatetimeIndex(['2015-07-13 05:42:00', '2015-07-16 05:42:00',\n",
       "               '2015-07-17 05:42:00', '2015-07-18 05:42:00',\n",
       "               '2015-07-19 05:42:00', '2015-07-20 05:42:00',\n",
       "               '2015-07-23 05:42:00', '2015-07-24 05:42:00',\n",
       "               '2015-07-25 05:42:00', '2015-07-26 05:42:00',\n",
       "               ...\n",
       "               '2019-05-19 05:42:00', '2019-05-20 05:42:00',\n",
       "               '2019-05-23 05:42:00', '2019-05-24 05:42:00',\n",
       "               '2019-05-25 05:42:00', '2019-05-26 05:42:00',\n",
       "               '2019-05-27 05:42:00', '2019-05-30 05:42:00',\n",
       "               '2019-05-31 05:42:00', '2019-06-01 05:42:00'],\n",
       "              dtype='datetime64[ns]', name='date', length=981, freq=None)"
      ]
     },
     "execution_count": 133,
     "metadata": {},
     "output_type": "execute_result"
    }
   ],
   "source": [
    "#adding multiple datetime objects.\n",
    "msft.index+pd.DateOffset(weeks=5,months=5,days=6,hours=5,minutes=42) \n",
    "#adds 5 weeks,5months,5days,5hours,5minutes to the dateindex time stamp object."
   ]
  },
  {
   "cell_type": "markdown",
   "metadata": {},
   "source": [
    "# More Fun with pd.DateOffset Objects\n",
    "\n",
    "Here we import the library called \" pandas.tseries.offsets\" and to import every function in thst we use *"
   ]
  },
  {
   "cell_type": "code",
   "execution_count": 141,
   "metadata": {},
   "outputs": [],
   "source": [
    "from pandas.tseries.offsets import *"
   ]
  },
  {
   "cell_type": "code",
   "execution_count": 136,
   "metadata": {
    "collapsed": true
   },
   "outputs": [
    {
     "data": {
      "text/html": [
       "<div>\n",
       "<style scoped>\n",
       "    .dataframe tbody tr th:only-of-type {\n",
       "        vertical-align: middle;\n",
       "    }\n",
       "\n",
       "    .dataframe tbody tr th {\n",
       "        vertical-align: top;\n",
       "    }\n",
       "\n",
       "    .dataframe thead th {\n",
       "        text-align: right;\n",
       "    }\n",
       "</style>\n",
       "<table border=\"1\" class=\"dataframe\">\n",
       "  <thead>\n",
       "    <tr style=\"text-align: right;\">\n",
       "      <th></th>\n",
       "      <th>open</th>\n",
       "      <th>high</th>\n",
       "      <th>low</th>\n",
       "      <th>close</th>\n",
       "      <th>volume</th>\n",
       "    </tr>\n",
       "    <tr>\n",
       "      <th>date</th>\n",
       "      <th></th>\n",
       "      <th></th>\n",
       "      <th></th>\n",
       "      <th></th>\n",
       "      <th></th>\n",
       "    </tr>\n",
       "  </thead>\n",
       "  <tbody>\n",
       "    <tr>\n",
       "      <th>2015-01-02</th>\n",
       "      <td>42.5088</td>\n",
       "      <td>43.2012</td>\n",
       "      <td>42.3994</td>\n",
       "      <td>42.5999</td>\n",
       "      <td>27913852</td>\n",
       "    </tr>\n",
       "    <tr>\n",
       "      <th>2015-01-05</th>\n",
       "      <td>42.2446</td>\n",
       "      <td>42.5725</td>\n",
       "      <td>42.1352</td>\n",
       "      <td>42.2036</td>\n",
       "      <td>39673865</td>\n",
       "    </tr>\n",
       "    <tr>\n",
       "      <th>2015-01-06</th>\n",
       "      <td>42.2537</td>\n",
       "      <td>42.5899</td>\n",
       "      <td>41.4884</td>\n",
       "      <td>41.5886</td>\n",
       "      <td>36447854</td>\n",
       "    </tr>\n",
       "    <tr>\n",
       "      <th>2015-01-07</th>\n",
       "      <td>41.8893</td>\n",
       "      <td>42.3266</td>\n",
       "      <td>41.4429</td>\n",
       "      <td>42.1170</td>\n",
       "      <td>29114061</td>\n",
       "    </tr>\n",
       "    <tr>\n",
       "      <th>2015-01-08</th>\n",
       "      <td>42.5908</td>\n",
       "      <td>43.5017</td>\n",
       "      <td>42.5634</td>\n",
       "      <td>43.3560</td>\n",
       "      <td>29645202</td>\n",
       "    </tr>\n",
       "  </tbody>\n",
       "</table>\n",
       "</div>"
      ],
      "text/plain": [
       "               open     high      low    close    volume\n",
       "date                                                    \n",
       "2015-01-02  42.5088  43.2012  42.3994  42.5999  27913852\n",
       "2015-01-05  42.2446  42.5725  42.1352  42.2036  39673865\n",
       "2015-01-06  42.2537  42.5899  41.4884  41.5886  36447854\n",
       "2015-01-07  41.8893  42.3266  41.4429  42.1170  29114061\n",
       "2015-01-08  42.5908  43.5017  42.5634  43.3560  29645202"
      ]
     },
     "execution_count": 136,
     "metadata": {},
     "output_type": "execute_result"
    }
   ],
   "source": [
    "msft=data.DataReader(name=\"MSFT\",data_source=\"iex\",start=dt.date(2015,1,1),end=dt.datetime.now())\n",
    "msft.index=pd.to_datetime(msft.index)\n",
    "msft.head()"
   ]
  },
  {
   "cell_type": "code",
   "execution_count": 145,
   "metadata": {
    "collapsed": true
   },
   "outputs": [
    {
     "data": {
      "text/plain": [
       "DatetimeIndex(['2015-01-31', '2015-01-31', '2015-01-31', '2015-01-31',\n",
       "               '2015-01-31', '2015-01-31', '2015-01-31', '2015-01-31',\n",
       "               '2015-01-31', '2015-01-31',\n",
       "               ...\n",
       "               '2018-11-30', '2018-11-30', '2018-11-30', '2018-11-30',\n",
       "               '2018-11-30', '2018-11-30', '2018-11-30', '2018-11-30',\n",
       "               '2018-11-30', '2018-11-30'],\n",
       "              dtype='datetime64[ns]', name='date', length=981, freq=None)"
      ]
     },
     "execution_count": 145,
     "metadata": {},
     "output_type": "execute_result"
    }
   ],
   "source": [
    "msft.index+MonthEnd() \n",
    "#it look at the date and then find the next month \n",
    "#ie for every date it replaces the day with end day  of current month."
   ]
  },
  {
   "cell_type": "code",
   "execution_count": 144,
   "metadata": {
    "collapsed": true
   },
   "outputs": [
    {
     "data": {
      "text/plain": [
       "DatetimeIndex(['2014-12-31', '2014-12-31', '2014-12-31', '2014-12-31',\n",
       "               '2014-12-31', '2014-12-31', '2014-12-31', '2014-12-31',\n",
       "               '2014-12-31', '2014-12-31',\n",
       "               ...\n",
       "               '2018-10-31', '2018-10-31', '2018-10-31', '2018-10-31',\n",
       "               '2018-10-31', '2018-10-31', '2018-10-31', '2018-10-31',\n",
       "               '2018-10-31', '2018-10-31'],\n",
       "              dtype='datetime64[ns]', name='date', length=981, freq=None)"
      ]
     },
     "execution_count": 144,
     "metadata": {},
     "output_type": "execute_result"
    }
   ],
   "source": [
    "msft.index-MonthEnd() \n",
    "#ie,for every day it replaces the day with  perivious month end."
   ]
  },
  {
   "cell_type": "code",
   "execution_count": 146,
   "metadata": {
    "collapsed": true
   },
   "outputs": [
    {
     "data": {
      "text/plain": [
       "DatetimeIndex(['2015-01-30', '2015-01-30', '2015-01-30', '2015-01-30',\n",
       "               '2015-01-30', '2015-01-30', '2015-01-30', '2015-01-30',\n",
       "               '2015-01-30', '2015-01-30',\n",
       "               ...\n",
       "               '2018-11-30', '2018-11-30', '2018-11-30', '2018-11-30',\n",
       "               '2018-11-30', '2018-11-30', '2018-11-30', '2018-11-30',\n",
       "               '2018-11-30', '2018-11-30'],\n",
       "              dtype='datetime64[ns]', name='date', length=981, freq=None)"
      ]
     },
     "execution_count": 146,
     "metadata": {},
     "output_type": "execute_result"
    }
   ],
   "source": [
    "msft.index+BMonthEnd()\n",
    "#ie,for every day it replaces the day with Bussines month of current month."
   ]
  },
  {
   "cell_type": "code",
   "execution_count": 150,
   "metadata": {
    "collapsed": true
   },
   "outputs": [
    {
     "data": {
      "text/plain": [
       "DatetimeIndex(['2015-03-01', '2015-03-01', '2015-03-01', '2015-03-01',\n",
       "               '2015-03-01', '2015-03-01', '2015-03-01', '2015-03-01',\n",
       "               '2015-03-01', '2015-03-01',\n",
       "               ...\n",
       "               '2018-12-01', '2018-12-01', '2018-12-01', '2018-12-01',\n",
       "               '2018-12-01', '2018-12-01', '2018-12-01', '2018-12-01',\n",
       "               '2018-12-01', '2018-12-01'],\n",
       "              dtype='datetime64[ns]', name='date', length=981, freq=None)"
      ]
     },
     "execution_count": 150,
     "metadata": {},
     "output_type": "execute_result"
    }
   ],
   "source": [
    "msft.index+QuarterEnd()  #ie,for every day it replaces the day withend of quater month day of year\n",
    "msft.index+QuarterBegin() #ie,for every day it replaces the day with quatrter month day of year."
   ]
  },
  {
   "cell_type": "code",
   "execution_count": 152,
   "metadata": {
    "collapsed": true
   },
   "outputs": [
    {
     "data": {
      "text/plain": [
       "DatetimeIndex(['2015-12-31', '2015-12-31', '2015-12-31', '2015-12-31',\n",
       "               '2015-12-31', '2015-12-31', '2015-12-31', '2015-12-31',\n",
       "               '2015-12-31', '2015-12-31',\n",
       "               ...\n",
       "               '2018-12-31', '2018-12-31', '2018-12-31', '2018-12-31',\n",
       "               '2018-12-31', '2018-12-31', '2018-12-31', '2018-12-31',\n",
       "               '2018-12-31', '2018-12-31'],\n",
       "              dtype='datetime64[ns]', name='date', length=981, freq=None)"
      ]
     },
     "execution_count": 152,
     "metadata": {},
     "output_type": "execute_result"
    }
   ],
   "source": [
    "msft.index+YearBegin()  #ie,for every day it replaces the day with begin day of year\n",
    "msft.index+YearEnd() #ie,for every day it replaces the day with end day of year."
   ]
  },
  {
   "cell_type": "markdown",
   "metadata": {},
   "source": [
    "# The pandas Timedelta Object\n",
    "\n",
    "This function returns the time difference and time allocation of the values as Time delta object.\n",
    "\n",
    "This function has pd.Timedelta() method which returns the timedelta object,ie(N-days HH-MM-SS) format where N=number of days output by given input.\n",
    "\n",
    "Example for \"Timedelta object is \"365 days\"\"."
   ]
  },
  {
   "cell_type": "code",
   "execution_count": 154,
   "metadata": {},
   "outputs": [],
   "source": [
    "timeA=pd.Timestamp(\"2016-03-31 04:35:16 PM\")\n",
    "timeB=pd.Timestamp(\"2016-03-20 04:35:16 PM\")"
   ]
  },
  {
   "cell_type": "code",
   "execution_count": 155,
   "metadata": {},
   "outputs": [
    {
     "data": {
      "text/plain": [
       "Timedelta('-11 days +00:00:00')"
      ]
     },
     "execution_count": 155,
     "metadata": {},
     "output_type": "execute_result"
    }
   ],
   "source": [
    "timeB-timeA #differnece between  B and A"
   ]
  },
  {
   "cell_type": "code",
   "execution_count": 156,
   "metadata": {},
   "outputs": [
    {
     "data": {
      "text/plain": [
       "Timedelta('11 days 00:00:00')"
      ]
     },
     "execution_count": 156,
     "metadata": {},
     "output_type": "execute_result"
    }
   ],
   "source": [
    "timeA-timeB   #differnece between A and B"
   ]
  },
  {
   "cell_type": "code",
   "execution_count": 157,
   "metadata": {},
   "outputs": [
    {
     "data": {
      "text/plain": [
       "pandas._libs.tslibs.timedeltas.Timedelta"
      ]
     },
     "execution_count": 157,
     "metadata": {},
     "output_type": "execute_result"
    }
   ],
   "source": [
    "type(timeA-timeB)"
   ]
  },
  {
   "cell_type": "code",
   "execution_count": 158,
   "metadata": {},
   "outputs": [
    {
     "data": {
      "text/plain": [
       "pandas._libs.tslibs.timestamps.Timestamp"
      ]
     },
     "execution_count": 158,
     "metadata": {},
     "output_type": "execute_result"
    }
   ],
   "source": [
    "type(timeA)"
   ]
  },
  {
   "cell_type": "code",
   "execution_count": 162,
   "metadata": {},
   "outputs": [
    {
     "data": {
      "text/plain": [
       "Timedelta('38 days 05:45:00')"
      ]
     },
     "execution_count": 162,
     "metadata": {},
     "output_type": "execute_result"
    }
   ],
   "source": [
    "pd.Timedelta(weeks=5,days=3, hours=5,minutes=45)\n",
    "#days=5*7+3=35+3=38days"
   ]
  },
  {
   "cell_type": "code",
   "execution_count": 164,
   "metadata": {},
   "outputs": [
    {
     "data": {
      "text/plain": [
       "Timedelta('3 days 05:45:45')"
      ]
     },
     "execution_count": 164,
     "metadata": {},
     "output_type": "execute_result"
    }
   ],
   "source": [
    "pd.Timedelta(\"3 days 5 hours 45 minutes 45 seconds\")\n",
    "#this dosen't include the week key word."
   ]
  },
  {
   "cell_type": "markdown",
   "metadata": {},
   "source": [
    "# Time delta in dataset()\n",
    "\n",
    "Always subract the Timedelta object from date object."
   ]
  },
  {
   "cell_type": "code",
   "execution_count": 171,
   "metadata": {},
   "outputs": [
    {
     "data": {
      "text/html": [
       "<div>\n",
       "<style scoped>\n",
       "    .dataframe tbody tr th:only-of-type {\n",
       "        vertical-align: middle;\n",
       "    }\n",
       "\n",
       "    .dataframe tbody tr th {\n",
       "        vertical-align: top;\n",
       "    }\n",
       "\n",
       "    .dataframe thead th {\n",
       "        text-align: right;\n",
       "    }\n",
       "</style>\n",
       "<table border=\"1\" class=\"dataframe\">\n",
       "  <thead>\n",
       "    <tr style=\"text-align: right;\">\n",
       "      <th></th>\n",
       "      <th>order_date</th>\n",
       "      <th>delivery_date</th>\n",
       "    </tr>\n",
       "    <tr>\n",
       "      <th>ID</th>\n",
       "      <th></th>\n",
       "      <th></th>\n",
       "    </tr>\n",
       "  </thead>\n",
       "  <tbody>\n",
       "    <tr>\n",
       "      <th>1</th>\n",
       "      <td>1998-05-24</td>\n",
       "      <td>1999-02-05</td>\n",
       "    </tr>\n",
       "    <tr>\n",
       "      <th>2</th>\n",
       "      <td>1992-04-22</td>\n",
       "      <td>1998-03-06</td>\n",
       "    </tr>\n",
       "    <tr>\n",
       "      <th>4</th>\n",
       "      <td>1991-02-10</td>\n",
       "      <td>1992-08-26</td>\n",
       "    </tr>\n",
       "    <tr>\n",
       "      <th>5</th>\n",
       "      <td>1992-07-21</td>\n",
       "      <td>1997-11-20</td>\n",
       "    </tr>\n",
       "    <tr>\n",
       "      <th>7</th>\n",
       "      <td>1993-09-02</td>\n",
       "      <td>1998-06-10</td>\n",
       "    </tr>\n",
       "  </tbody>\n",
       "</table>\n",
       "</div>"
      ],
      "text/plain": [
       "   order_date delivery_date\n",
       "ID                         \n",
       "1  1998-05-24    1999-02-05\n",
       "2  1992-04-22    1998-03-06\n",
       "4  1991-02-10    1992-08-26\n",
       "5  1992-07-21    1997-11-20\n",
       "7  1993-09-02    1998-06-10"
      ]
     },
     "execution_count": 171,
     "metadata": {},
     "output_type": "execute_result"
    }
   ],
   "source": [
    "shipping=pd.read_csv(\"ecommerce.csv\",index_col=\"ID\",parse_dates=[\"order_date\",\"delivery_date\"])\n",
    "shipping.head()"
   ]
  },
  {
   "cell_type": "code",
   "execution_count": 173,
   "metadata": {},
   "outputs": [],
   "source": [
    "shipping[\"Delivery time\"]=shipping[\"delivery_date\"]-shipping[\"order_date\"]"
   ]
  },
  {
   "cell_type": "code",
   "execution_count": 180,
   "metadata": {},
   "outputs": [
    {
     "data": {
      "text/plain": [
       "pandas.core.series.Series"
      ]
     },
     "execution_count": 180,
     "metadata": {},
     "output_type": "execute_result"
    }
   ],
   "source": [
    "type(shipping[\"Delivery time\"])\n",
    "# This Delivery time is the timestamp."
   ]
  },
  {
   "cell_type": "code",
   "execution_count": 181,
   "metadata": {},
   "outputs": [
    {
     "data": {
      "text/html": [
       "<div>\n",
       "<style scoped>\n",
       "    .dataframe tbody tr th:only-of-type {\n",
       "        vertical-align: middle;\n",
       "    }\n",
       "\n",
       "    .dataframe tbody tr th {\n",
       "        vertical-align: top;\n",
       "    }\n",
       "\n",
       "    .dataframe thead th {\n",
       "        text-align: right;\n",
       "    }\n",
       "</style>\n",
       "<table border=\"1\" class=\"dataframe\">\n",
       "  <thead>\n",
       "    <tr style=\"text-align: right;\">\n",
       "      <th></th>\n",
       "      <th>order_date</th>\n",
       "      <th>delivery_date</th>\n",
       "      <th>Delivery time</th>\n",
       "    </tr>\n",
       "    <tr>\n",
       "      <th>ID</th>\n",
       "      <th></th>\n",
       "      <th></th>\n",
       "      <th></th>\n",
       "    </tr>\n",
       "  </thead>\n",
       "  <tbody>\n",
       "    <tr>\n",
       "      <th>1</th>\n",
       "      <td>1998-05-24</td>\n",
       "      <td>1999-02-05</td>\n",
       "      <td>257 days</td>\n",
       "    </tr>\n",
       "    <tr>\n",
       "      <th>2</th>\n",
       "      <td>1992-04-22</td>\n",
       "      <td>1998-03-06</td>\n",
       "      <td>2144 days</td>\n",
       "    </tr>\n",
       "    <tr>\n",
       "      <th>4</th>\n",
       "      <td>1991-02-10</td>\n",
       "      <td>1992-08-26</td>\n",
       "      <td>563 days</td>\n",
       "    </tr>\n",
       "  </tbody>\n",
       "</table>\n",
       "</div>"
      ],
      "text/plain": [
       "   order_date delivery_date Delivery time\n",
       "ID                                       \n",
       "1  1998-05-24    1999-02-05      257 days\n",
       "2  1992-04-22    1998-03-06     2144 days\n",
       "4  1991-02-10    1992-08-26      563 days"
      ]
     },
     "execution_count": 181,
     "metadata": {},
     "output_type": "execute_result"
    }
   ],
   "source": [
    "shipping.head(3)"
   ]
  },
  {
   "cell_type": "code",
   "execution_count": 190,
   "metadata": {
    "collapsed": true
   },
   "outputs": [
    {
     "data": {
      "text/html": [
       "<div>\n",
       "<style scoped>\n",
       "    .dataframe tbody tr th:only-of-type {\n",
       "        vertical-align: middle;\n",
       "    }\n",
       "\n",
       "    .dataframe tbody tr th {\n",
       "        vertical-align: top;\n",
       "    }\n",
       "\n",
       "    .dataframe thead th {\n",
       "        text-align: right;\n",
       "    }\n",
       "</style>\n",
       "<table border=\"1\" class=\"dataframe\">\n",
       "  <thead>\n",
       "    <tr style=\"text-align: right;\">\n",
       "      <th></th>\n",
       "      <th>order_date</th>\n",
       "      <th>delivery_date</th>\n",
       "      <th>Delivery time</th>\n",
       "      <th>Twice_As_long_As</th>\n",
       "    </tr>\n",
       "    <tr>\n",
       "      <th>ID</th>\n",
       "      <th></th>\n",
       "      <th></th>\n",
       "      <th></th>\n",
       "      <th></th>\n",
       "    </tr>\n",
       "  </thead>\n",
       "  <tbody>\n",
       "    <tr>\n",
       "      <th>1</th>\n",
       "      <td>1998-05-24</td>\n",
       "      <td>1999-02-05</td>\n",
       "      <td>257 days</td>\n",
       "      <td>1999-10-20</td>\n",
       "    </tr>\n",
       "    <tr>\n",
       "      <th>2</th>\n",
       "      <td>1992-04-22</td>\n",
       "      <td>1998-03-06</td>\n",
       "      <td>2144 days</td>\n",
       "      <td>2004-01-18</td>\n",
       "    </tr>\n",
       "    <tr>\n",
       "      <th>4</th>\n",
       "      <td>1991-02-10</td>\n",
       "      <td>1992-08-26</td>\n",
       "      <td>563 days</td>\n",
       "      <td>1994-03-12</td>\n",
       "    </tr>\n",
       "    <tr>\n",
       "      <th>5</th>\n",
       "      <td>1992-07-21</td>\n",
       "      <td>1997-11-20</td>\n",
       "      <td>1948 days</td>\n",
       "      <td>2003-03-22</td>\n",
       "    </tr>\n",
       "    <tr>\n",
       "      <th>7</th>\n",
       "      <td>1993-09-02</td>\n",
       "      <td>1998-06-10</td>\n",
       "      <td>1742 days</td>\n",
       "      <td>2003-03-18</td>\n",
       "    </tr>\n",
       "  </tbody>\n",
       "</table>\n",
       "</div>"
      ],
      "text/plain": [
       "   order_date delivery_date Delivery time Twice_As_long_As\n",
       "ID                                                        \n",
       "1  1998-05-24    1999-02-05      257 days       1999-10-20\n",
       "2  1992-04-22    1998-03-06     2144 days       2004-01-18\n",
       "4  1991-02-10    1992-08-26      563 days       1994-03-12\n",
       "5  1992-07-21    1997-11-20     1948 days       2003-03-22\n",
       "7  1993-09-02    1998-06-10     1742 days       2003-03-18"
      ]
     },
     "execution_count": 190,
     "metadata": {},
     "output_type": "execute_result"
    }
   ],
   "source": [
    "(shipping[\"delivery_date\"]+shipping[\"Delivery time\"]).head()\n",
    "shipping[\"Twice_As_long_As\"]=shipping[\"delivery_date\"]+shipping[\"Delivery time\"]\n",
    "shipping.head()"
   ]
  },
  {
   "cell_type": "code",
   "execution_count": 185,
   "metadata": {},
   "outputs": [
    {
     "data": {
      "text/plain": [
       "ID\n",
       "1   1998-05-24\n",
       "2   1992-04-22\n",
       "4   1991-02-10\n",
       "5   1992-07-21\n",
       "7   1993-09-02\n",
       "dtype: datetime64[ns]"
      ]
     },
     "execution_count": 185,
     "metadata": {},
     "output_type": "execute_result"
    }
   ],
   "source": [
    "(shipping[\"delivery_date\"]-shipping[\"Delivery time\"]).head()"
   ]
  },
  {
   "cell_type": "code",
   "execution_count": 189,
   "metadata": {},
   "outputs": [
    {
     "data": {
      "text/plain": [
       "order_date           datetime64[ns]\n",
       "delivery_date        datetime64[ns]\n",
       "Delivery time       timedelta64[ns]\n",
       "Twice_As_long_As     datetime64[ns]\n",
       "dtype: object"
      ]
     },
     "execution_count": 189,
     "metadata": {},
     "output_type": "execute_result"
    }
   ],
   "source": [
    "shipping.dtypes"
   ]
  },
  {
   "cell_type": "code",
   "execution_count": 201,
   "metadata": {
    "collapsed": true
   },
   "outputs": [
    {
     "data": {
      "text/html": [
       "<div>\n",
       "<style scoped>\n",
       "    .dataframe tbody tr th:only-of-type {\n",
       "        vertical-align: middle;\n",
       "    }\n",
       "\n",
       "    .dataframe tbody tr th {\n",
       "        vertical-align: top;\n",
       "    }\n",
       "\n",
       "    .dataframe thead th {\n",
       "        text-align: right;\n",
       "    }\n",
       "</style>\n",
       "<table border=\"1\" class=\"dataframe\">\n",
       "  <thead>\n",
       "    <tr style=\"text-align: right;\">\n",
       "      <th></th>\n",
       "      <th>order_date</th>\n",
       "      <th>delivery_date</th>\n",
       "      <th>Delivery time</th>\n",
       "      <th>Twice_As_long_As</th>\n",
       "    </tr>\n",
       "    <tr>\n",
       "      <th>ID</th>\n",
       "      <th></th>\n",
       "      <th></th>\n",
       "      <th></th>\n",
       "      <th></th>\n",
       "    </tr>\n",
       "  </thead>\n",
       "  <tbody>\n",
       "    <tr>\n",
       "      <th>32</th>\n",
       "      <td>1990-01-20</td>\n",
       "      <td>1998-07-24</td>\n",
       "      <td>3107 days</td>\n",
       "      <td>2007-01-25</td>\n",
       "    </tr>\n",
       "    <tr>\n",
       "      <th>130</th>\n",
       "      <td>1990-04-02</td>\n",
       "      <td>1999-08-16</td>\n",
       "      <td>3423 days</td>\n",
       "      <td>2008-12-29</td>\n",
       "    </tr>\n",
       "    <tr>\n",
       "      <th>151</th>\n",
       "      <td>1991-01-29</td>\n",
       "      <td>1999-08-05</td>\n",
       "      <td>3110 days</td>\n",
       "      <td>2008-02-09</td>\n",
       "    </tr>\n",
       "    <tr>\n",
       "      <th>229</th>\n",
       "      <td>1990-04-13</td>\n",
       "      <td>1998-11-17</td>\n",
       "      <td>3140 days</td>\n",
       "      <td>2007-06-23</td>\n",
       "    </tr>\n",
       "    <tr>\n",
       "      <th>314</th>\n",
       "      <td>1990-03-07</td>\n",
       "      <td>1999-12-25</td>\n",
       "      <td>3580 days</td>\n",
       "      <td>2009-10-13</td>\n",
       "    </tr>\n",
       "    <tr>\n",
       "      <th>331</th>\n",
       "      <td>1990-09-18</td>\n",
       "      <td>1999-12-19</td>\n",
       "      <td>3379 days</td>\n",
       "      <td>2009-03-20</td>\n",
       "    </tr>\n",
       "    <tr>\n",
       "      <th>348</th>\n",
       "      <td>1990-02-27</td>\n",
       "      <td>1999-01-04</td>\n",
       "      <td>3233 days</td>\n",
       "      <td>2007-11-11</td>\n",
       "    </tr>\n",
       "    <tr>\n",
       "      <th>392</th>\n",
       "      <td>1990-12-24</td>\n",
       "      <td>1999-12-04</td>\n",
       "      <td>3267 days</td>\n",
       "      <td>2008-11-13</td>\n",
       "    </tr>\n",
       "    <tr>\n",
       "      <th>590</th>\n",
       "      <td>1990-03-25</td>\n",
       "      <td>1998-12-20</td>\n",
       "      <td>3192 days</td>\n",
       "      <td>2007-09-16</td>\n",
       "    </tr>\n",
       "    <tr>\n",
       "      <th>634</th>\n",
       "      <td>1991-04-04</td>\n",
       "      <td>1999-07-21</td>\n",
       "      <td>3030 days</td>\n",
       "      <td>2007-11-06</td>\n",
       "    </tr>\n",
       "    <tr>\n",
       "      <th>674</th>\n",
       "      <td>1990-03-16</td>\n",
       "      <td>1998-12-28</td>\n",
       "      <td>3209 days</td>\n",
       "      <td>2007-10-11</td>\n",
       "    </tr>\n",
       "    <tr>\n",
       "      <th>760</th>\n",
       "      <td>1990-09-16</td>\n",
       "      <td>1998-12-06</td>\n",
       "      <td>3003 days</td>\n",
       "      <td>2007-02-25</td>\n",
       "    </tr>\n",
       "    <tr>\n",
       "      <th>764</th>\n",
       "      <td>1990-09-19</td>\n",
       "      <td>1999-09-16</td>\n",
       "      <td>3284 days</td>\n",
       "      <td>2008-09-12</td>\n",
       "    </tr>\n",
       "    <tr>\n",
       "      <th>786</th>\n",
       "      <td>1990-10-26</td>\n",
       "      <td>1999-05-10</td>\n",
       "      <td>3118 days</td>\n",
       "      <td>2007-11-22</td>\n",
       "    </tr>\n",
       "    <tr>\n",
       "      <th>884</th>\n",
       "      <td>1990-01-20</td>\n",
       "      <td>1999-11-12</td>\n",
       "      <td>3583 days</td>\n",
       "      <td>2009-09-03</td>\n",
       "    </tr>\n",
       "    <tr>\n",
       "      <th>902</th>\n",
       "      <td>1991-07-03</td>\n",
       "      <td>1999-11-10</td>\n",
       "      <td>3052 days</td>\n",
       "      <td>2008-03-19</td>\n",
       "    </tr>\n",
       "    <tr>\n",
       "      <th>904</th>\n",
       "      <td>1990-02-13</td>\n",
       "      <td>1999-11-15</td>\n",
       "      <td>3562 days</td>\n",
       "      <td>2009-08-16</td>\n",
       "    </tr>\n",
       "    <tr>\n",
       "      <th>943</th>\n",
       "      <td>1991-01-30</td>\n",
       "      <td>1999-12-02</td>\n",
       "      <td>3228 days</td>\n",
       "      <td>2008-10-03</td>\n",
       "    </tr>\n",
       "  </tbody>\n",
       "</table>\n",
       "</div>"
      ],
      "text/plain": [
       "    order_date delivery_date Delivery time Twice_As_long_As\n",
       "ID                                                         \n",
       "32  1990-01-20    1998-07-24     3107 days       2007-01-25\n",
       "130 1990-04-02    1999-08-16     3423 days       2008-12-29\n",
       "151 1991-01-29    1999-08-05     3110 days       2008-02-09\n",
       "229 1990-04-13    1998-11-17     3140 days       2007-06-23\n",
       "314 1990-03-07    1999-12-25     3580 days       2009-10-13\n",
       "331 1990-09-18    1999-12-19     3379 days       2009-03-20\n",
       "348 1990-02-27    1999-01-04     3233 days       2007-11-11\n",
       "392 1990-12-24    1999-12-04     3267 days       2008-11-13\n",
       "590 1990-03-25    1998-12-20     3192 days       2007-09-16\n",
       "634 1991-04-04    1999-07-21     3030 days       2007-11-06\n",
       "674 1990-03-16    1998-12-28     3209 days       2007-10-11\n",
       "760 1990-09-16    1998-12-06     3003 days       2007-02-25\n",
       "764 1990-09-19    1999-09-16     3284 days       2008-09-12\n",
       "786 1990-10-26    1999-05-10     3118 days       2007-11-22\n",
       "884 1990-01-20    1999-11-12     3583 days       2009-09-03\n",
       "902 1991-07-03    1999-11-10     3052 days       2008-03-19\n",
       "904 1990-02-13    1999-11-15     3562 days       2009-08-16\n",
       "943 1991-01-30    1999-12-02     3228 days       2008-10-03"
      ]
     },
     "execution_count": 201,
     "metadata": {},
     "output_type": "execute_result"
    }
   ],
   "source": [
    "shipping[shipping[\"Delivery time\"]>\"3000 days\"]"
   ]
  },
  {
   "cell_type": "code",
   "execution_count": 198,
   "metadata": {
    "collapsed": true
   },
   "outputs": [
    {
     "data": {
      "text/html": [
       "<div>\n",
       "<style scoped>\n",
       "    .dataframe tbody tr th:only-of-type {\n",
       "        vertical-align: middle;\n",
       "    }\n",
       "\n",
       "    .dataframe tbody tr th {\n",
       "        vertical-align: top;\n",
       "    }\n",
       "\n",
       "    .dataframe thead th {\n",
       "        text-align: right;\n",
       "    }\n",
       "</style>\n",
       "<table border=\"1\" class=\"dataframe\">\n",
       "  <thead>\n",
       "    <tr style=\"text-align: right;\">\n",
       "      <th></th>\n",
       "      <th>order_date</th>\n",
       "      <th>delivery_date</th>\n",
       "      <th>Delivery time</th>\n",
       "      <th>Twice_As_long_As</th>\n",
       "    </tr>\n",
       "    <tr>\n",
       "      <th>ID</th>\n",
       "      <th></th>\n",
       "      <th></th>\n",
       "      <th></th>\n",
       "      <th></th>\n",
       "    </tr>\n",
       "  </thead>\n",
       "  <tbody>\n",
       "    <tr>\n",
       "      <th>1</th>\n",
       "      <td>1998-05-24</td>\n",
       "      <td>1999-02-05</td>\n",
       "      <td>257 days</td>\n",
       "      <td>1999-10-20</td>\n",
       "    </tr>\n",
       "    <tr>\n",
       "      <th>8</th>\n",
       "      <td>1993-06-10</td>\n",
       "      <td>1993-11-11</td>\n",
       "      <td>154 days</td>\n",
       "      <td>1994-04-14</td>\n",
       "    </tr>\n",
       "    <tr>\n",
       "      <th>19</th>\n",
       "      <td>1998-05-10</td>\n",
       "      <td>1998-05-19</td>\n",
       "      <td>9 days</td>\n",
       "      <td>1998-05-28</td>\n",
       "    </tr>\n",
       "    <tr>\n",
       "      <th>30</th>\n",
       "      <td>1998-10-22</td>\n",
       "      <td>1999-01-11</td>\n",
       "      <td>81 days</td>\n",
       "      <td>1999-04-02</td>\n",
       "    </tr>\n",
       "    <tr>\n",
       "      <th>46</th>\n",
       "      <td>1995-09-05</td>\n",
       "      <td>1996-07-19</td>\n",
       "      <td>318 days</td>\n",
       "      <td>1997-06-02</td>\n",
       "    </tr>\n",
       "    <tr>\n",
       "      <th>58</th>\n",
       "      <td>1995-02-11</td>\n",
       "      <td>1995-04-16</td>\n",
       "      <td>64 days</td>\n",
       "      <td>1995-06-19</td>\n",
       "    </tr>\n",
       "    <tr>\n",
       "      <th>59</th>\n",
       "      <td>1995-09-29</td>\n",
       "      <td>1995-12-16</td>\n",
       "      <td>78 days</td>\n",
       "      <td>1996-03-03</td>\n",
       "    </tr>\n",
       "    <tr>\n",
       "      <th>68</th>\n",
       "      <td>1990-02-14</td>\n",
       "      <td>1990-06-26</td>\n",
       "      <td>132 days</td>\n",
       "      <td>1990-11-05</td>\n",
       "    </tr>\n",
       "    <tr>\n",
       "      <th>79</th>\n",
       "      <td>1992-06-11</td>\n",
       "      <td>1992-12-04</td>\n",
       "      <td>176 days</td>\n",
       "      <td>1993-05-29</td>\n",
       "    </tr>\n",
       "    <tr>\n",
       "      <th>88</th>\n",
       "      <td>1997-08-29</td>\n",
       "      <td>1997-09-19</td>\n",
       "      <td>21 days</td>\n",
       "      <td>1997-10-10</td>\n",
       "    </tr>\n",
       "    <tr>\n",
       "      <th>114</th>\n",
       "      <td>1990-04-02</td>\n",
       "      <td>1991-01-20</td>\n",
       "      <td>293 days</td>\n",
       "      <td>1991-11-09</td>\n",
       "    </tr>\n",
       "    <tr>\n",
       "      <th>122</th>\n",
       "      <td>1995-11-22</td>\n",
       "      <td>1996-07-31</td>\n",
       "      <td>252 days</td>\n",
       "      <td>1997-04-09</td>\n",
       "    </tr>\n",
       "    <tr>\n",
       "      <th>137</th>\n",
       "      <td>1997-04-02</td>\n",
       "      <td>1997-08-28</td>\n",
       "      <td>148 days</td>\n",
       "      <td>1998-01-23</td>\n",
       "    </tr>\n",
       "    <tr>\n",
       "      <th>159</th>\n",
       "      <td>1995-12-23</td>\n",
       "      <td>1996-12-19</td>\n",
       "      <td>362 days</td>\n",
       "      <td>1997-12-16</td>\n",
       "    </tr>\n",
       "    <tr>\n",
       "      <th>161</th>\n",
       "      <td>1991-10-30</td>\n",
       "      <td>1992-07-05</td>\n",
       "      <td>249 days</td>\n",
       "      <td>1993-03-11</td>\n",
       "    </tr>\n",
       "    <tr>\n",
       "      <th>163</th>\n",
       "      <td>1990-05-21</td>\n",
       "      <td>1991-04-01</td>\n",
       "      <td>315 days</td>\n",
       "      <td>1992-02-10</td>\n",
       "    </tr>\n",
       "    <tr>\n",
       "      <th>167</th>\n",
       "      <td>1993-11-30</td>\n",
       "      <td>1994-11-19</td>\n",
       "      <td>354 days</td>\n",
       "      <td>1995-11-08</td>\n",
       "    </tr>\n",
       "    <tr>\n",
       "      <th>182</th>\n",
       "      <td>1994-03-03</td>\n",
       "      <td>1994-06-03</td>\n",
       "      <td>92 days</td>\n",
       "      <td>1994-09-03</td>\n",
       "    </tr>\n",
       "    <tr>\n",
       "      <th>220</th>\n",
       "      <td>1990-04-19</td>\n",
       "      <td>1991-02-12</td>\n",
       "      <td>299 days</td>\n",
       "      <td>1991-12-08</td>\n",
       "    </tr>\n",
       "    <tr>\n",
       "      <th>226</th>\n",
       "      <td>1992-07-18</td>\n",
       "      <td>1993-06-09</td>\n",
       "      <td>326 days</td>\n",
       "      <td>1994-05-01</td>\n",
       "    </tr>\n",
       "    <tr>\n",
       "      <th>252</th>\n",
       "      <td>1991-01-28</td>\n",
       "      <td>1992-01-08</td>\n",
       "      <td>345 days</td>\n",
       "      <td>1992-12-18</td>\n",
       "    </tr>\n",
       "    <tr>\n",
       "      <th>277</th>\n",
       "      <td>1994-07-18</td>\n",
       "      <td>1994-10-06</td>\n",
       "      <td>80 days</td>\n",
       "      <td>1994-12-25</td>\n",
       "    </tr>\n",
       "    <tr>\n",
       "      <th>284</th>\n",
       "      <td>1993-10-10</td>\n",
       "      <td>1994-01-04</td>\n",
       "      <td>86 days</td>\n",
       "      <td>1994-03-31</td>\n",
       "    </tr>\n",
       "    <tr>\n",
       "      <th>298</th>\n",
       "      <td>1993-07-29</td>\n",
       "      <td>1994-01-17</td>\n",
       "      <td>172 days</td>\n",
       "      <td>1994-07-08</td>\n",
       "    </tr>\n",
       "    <tr>\n",
       "      <th>299</th>\n",
       "      <td>1992-08-17</td>\n",
       "      <td>1992-12-28</td>\n",
       "      <td>133 days</td>\n",
       "      <td>1993-05-10</td>\n",
       "    </tr>\n",
       "    <tr>\n",
       "      <th>303</th>\n",
       "      <td>1995-06-06</td>\n",
       "      <td>1995-08-15</td>\n",
       "      <td>70 days</td>\n",
       "      <td>1995-10-24</td>\n",
       "    </tr>\n",
       "    <tr>\n",
       "      <th>310</th>\n",
       "      <td>1997-09-20</td>\n",
       "      <td>1997-10-06</td>\n",
       "      <td>16 days</td>\n",
       "      <td>1997-10-22</td>\n",
       "    </tr>\n",
       "    <tr>\n",
       "      <th>311</th>\n",
       "      <td>1990-01-06</td>\n",
       "      <td>1990-02-06</td>\n",
       "      <td>31 days</td>\n",
       "      <td>1990-03-09</td>\n",
       "    </tr>\n",
       "    <tr>\n",
       "      <th>319</th>\n",
       "      <td>1990-11-30</td>\n",
       "      <td>1991-09-04</td>\n",
       "      <td>278 days</td>\n",
       "      <td>1992-06-08</td>\n",
       "    </tr>\n",
       "    <tr>\n",
       "      <th>337</th>\n",
       "      <td>1990-08-16</td>\n",
       "      <td>1991-02-10</td>\n",
       "      <td>178 days</td>\n",
       "      <td>1991-08-07</td>\n",
       "    </tr>\n",
       "    <tr>\n",
       "      <th>...</th>\n",
       "      <td>...</td>\n",
       "      <td>...</td>\n",
       "      <td>...</td>\n",
       "      <td>...</td>\n",
       "    </tr>\n",
       "    <tr>\n",
       "      <th>767</th>\n",
       "      <td>1991-04-23</td>\n",
       "      <td>1992-04-05</td>\n",
       "      <td>348 days</td>\n",
       "      <td>1993-03-19</td>\n",
       "    </tr>\n",
       "    <tr>\n",
       "      <th>770</th>\n",
       "      <td>1998-03-28</td>\n",
       "      <td>1998-06-05</td>\n",
       "      <td>69 days</td>\n",
       "      <td>1998-08-13</td>\n",
       "    </tr>\n",
       "    <tr>\n",
       "      <th>779</th>\n",
       "      <td>1995-05-25</td>\n",
       "      <td>1996-02-21</td>\n",
       "      <td>272 days</td>\n",
       "      <td>1996-11-19</td>\n",
       "    </tr>\n",
       "    <tr>\n",
       "      <th>781</th>\n",
       "      <td>1995-07-16</td>\n",
       "      <td>1995-08-17</td>\n",
       "      <td>32 days</td>\n",
       "      <td>1995-09-18</td>\n",
       "    </tr>\n",
       "    <tr>\n",
       "      <th>784</th>\n",
       "      <td>1997-04-08</td>\n",
       "      <td>1997-11-09</td>\n",
       "      <td>215 days</td>\n",
       "      <td>1998-06-12</td>\n",
       "    </tr>\n",
       "    <tr>\n",
       "      <th>791</th>\n",
       "      <td>1998-01-05</td>\n",
       "      <td>1998-09-01</td>\n",
       "      <td>239 days</td>\n",
       "      <td>1999-04-28</td>\n",
       "    </tr>\n",
       "    <tr>\n",
       "      <th>797</th>\n",
       "      <td>1996-08-05</td>\n",
       "      <td>1997-04-10</td>\n",
       "      <td>248 days</td>\n",
       "      <td>1997-12-14</td>\n",
       "    </tr>\n",
       "    <tr>\n",
       "      <th>819</th>\n",
       "      <td>1998-12-06</td>\n",
       "      <td>1999-07-31</td>\n",
       "      <td>237 days</td>\n",
       "      <td>2000-03-24</td>\n",
       "    </tr>\n",
       "    <tr>\n",
       "      <th>828</th>\n",
       "      <td>1991-08-09</td>\n",
       "      <td>1992-01-15</td>\n",
       "      <td>159 days</td>\n",
       "      <td>1992-06-22</td>\n",
       "    </tr>\n",
       "    <tr>\n",
       "      <th>834</th>\n",
       "      <td>1994-06-26</td>\n",
       "      <td>1994-09-28</td>\n",
       "      <td>94 days</td>\n",
       "      <td>1994-12-31</td>\n",
       "    </tr>\n",
       "    <tr>\n",
       "      <th>841</th>\n",
       "      <td>1991-08-04</td>\n",
       "      <td>1992-05-09</td>\n",
       "      <td>279 days</td>\n",
       "      <td>1993-02-12</td>\n",
       "    </tr>\n",
       "    <tr>\n",
       "      <th>843</th>\n",
       "      <td>1991-02-05</td>\n",
       "      <td>1991-05-06</td>\n",
       "      <td>90 days</td>\n",
       "      <td>1991-08-04</td>\n",
       "    </tr>\n",
       "    <tr>\n",
       "      <th>846</th>\n",
       "      <td>1997-03-13</td>\n",
       "      <td>1997-12-03</td>\n",
       "      <td>265 days</td>\n",
       "      <td>1998-08-25</td>\n",
       "    </tr>\n",
       "    <tr>\n",
       "      <th>851</th>\n",
       "      <td>1991-10-20</td>\n",
       "      <td>1992-08-26</td>\n",
       "      <td>311 days</td>\n",
       "      <td>1993-07-03</td>\n",
       "    </tr>\n",
       "    <tr>\n",
       "      <th>853</th>\n",
       "      <td>1991-06-29</td>\n",
       "      <td>1992-05-13</td>\n",
       "      <td>319 days</td>\n",
       "      <td>1993-03-28</td>\n",
       "    </tr>\n",
       "    <tr>\n",
       "      <th>861</th>\n",
       "      <td>1995-02-24</td>\n",
       "      <td>1995-10-17</td>\n",
       "      <td>235 days</td>\n",
       "      <td>1996-06-08</td>\n",
       "    </tr>\n",
       "    <tr>\n",
       "      <th>868</th>\n",
       "      <td>1991-02-12</td>\n",
       "      <td>1991-12-26</td>\n",
       "      <td>317 days</td>\n",
       "      <td>1992-11-07</td>\n",
       "    </tr>\n",
       "    <tr>\n",
       "      <th>873</th>\n",
       "      <td>1998-08-18</td>\n",
       "      <td>1998-10-05</td>\n",
       "      <td>48 days</td>\n",
       "      <td>1998-11-22</td>\n",
       "    </tr>\n",
       "    <tr>\n",
       "      <th>896</th>\n",
       "      <td>1990-08-23</td>\n",
       "      <td>1991-05-05</td>\n",
       "      <td>255 days</td>\n",
       "      <td>1992-01-15</td>\n",
       "    </tr>\n",
       "    <tr>\n",
       "      <th>898</th>\n",
       "      <td>1990-05-24</td>\n",
       "      <td>1990-06-01</td>\n",
       "      <td>8 days</td>\n",
       "      <td>1990-06-09</td>\n",
       "    </tr>\n",
       "    <tr>\n",
       "      <th>912</th>\n",
       "      <td>1992-08-21</td>\n",
       "      <td>1993-01-24</td>\n",
       "      <td>156 days</td>\n",
       "      <td>1993-06-29</td>\n",
       "    </tr>\n",
       "    <tr>\n",
       "      <th>932</th>\n",
       "      <td>1997-07-25</td>\n",
       "      <td>1998-04-09</td>\n",
       "      <td>258 days</td>\n",
       "      <td>1998-12-23</td>\n",
       "    </tr>\n",
       "    <tr>\n",
       "      <th>934</th>\n",
       "      <td>1995-05-22</td>\n",
       "      <td>1995-07-11</td>\n",
       "      <td>50 days</td>\n",
       "      <td>1995-08-30</td>\n",
       "    </tr>\n",
       "    <tr>\n",
       "      <th>939</th>\n",
       "      <td>1998-10-01</td>\n",
       "      <td>1998-12-07</td>\n",
       "      <td>67 days</td>\n",
       "      <td>1999-02-12</td>\n",
       "    </tr>\n",
       "    <tr>\n",
       "      <th>949</th>\n",
       "      <td>1991-10-07</td>\n",
       "      <td>1992-01-07</td>\n",
       "      <td>92 days</td>\n",
       "      <td>1992-04-08</td>\n",
       "    </tr>\n",
       "    <tr>\n",
       "      <th>954</th>\n",
       "      <td>1993-08-08</td>\n",
       "      <td>1994-01-23</td>\n",
       "      <td>168 days</td>\n",
       "      <td>1994-07-10</td>\n",
       "    </tr>\n",
       "    <tr>\n",
       "      <th>969</th>\n",
       "      <td>1996-09-24</td>\n",
       "      <td>1996-11-16</td>\n",
       "      <td>53 days</td>\n",
       "      <td>1997-01-08</td>\n",
       "    </tr>\n",
       "    <tr>\n",
       "      <th>975</th>\n",
       "      <td>1997-06-18</td>\n",
       "      <td>1997-11-02</td>\n",
       "      <td>137 days</td>\n",
       "      <td>1998-03-19</td>\n",
       "    </tr>\n",
       "    <tr>\n",
       "      <th>985</th>\n",
       "      <td>1995-07-26</td>\n",
       "      <td>1996-06-18</td>\n",
       "      <td>328 days</td>\n",
       "      <td>1997-05-12</td>\n",
       "    </tr>\n",
       "    <tr>\n",
       "      <th>994</th>\n",
       "      <td>1993-06-03</td>\n",
       "      <td>1993-06-13</td>\n",
       "      <td>10 days</td>\n",
       "      <td>1993-06-23</td>\n",
       "    </tr>\n",
       "  </tbody>\n",
       "</table>\n",
       "<p>107 rows × 4 columns</p>\n",
       "</div>"
      ],
      "text/plain": [
       "    order_date delivery_date Delivery time Twice_As_long_As\n",
       "ID                                                         \n",
       "1   1998-05-24    1999-02-05      257 days       1999-10-20\n",
       "8   1993-06-10    1993-11-11      154 days       1994-04-14\n",
       "19  1998-05-10    1998-05-19        9 days       1998-05-28\n",
       "30  1998-10-22    1999-01-11       81 days       1999-04-02\n",
       "46  1995-09-05    1996-07-19      318 days       1997-06-02\n",
       "58  1995-02-11    1995-04-16       64 days       1995-06-19\n",
       "59  1995-09-29    1995-12-16       78 days       1996-03-03\n",
       "68  1990-02-14    1990-06-26      132 days       1990-11-05\n",
       "79  1992-06-11    1992-12-04      176 days       1993-05-29\n",
       "88  1997-08-29    1997-09-19       21 days       1997-10-10\n",
       "114 1990-04-02    1991-01-20      293 days       1991-11-09\n",
       "122 1995-11-22    1996-07-31      252 days       1997-04-09\n",
       "137 1997-04-02    1997-08-28      148 days       1998-01-23\n",
       "159 1995-12-23    1996-12-19      362 days       1997-12-16\n",
       "161 1991-10-30    1992-07-05      249 days       1993-03-11\n",
       "163 1990-05-21    1991-04-01      315 days       1992-02-10\n",
       "167 1993-11-30    1994-11-19      354 days       1995-11-08\n",
       "182 1994-03-03    1994-06-03       92 days       1994-09-03\n",
       "220 1990-04-19    1991-02-12      299 days       1991-12-08\n",
       "226 1992-07-18    1993-06-09      326 days       1994-05-01\n",
       "252 1991-01-28    1992-01-08      345 days       1992-12-18\n",
       "277 1994-07-18    1994-10-06       80 days       1994-12-25\n",
       "284 1993-10-10    1994-01-04       86 days       1994-03-31\n",
       "298 1993-07-29    1994-01-17      172 days       1994-07-08\n",
       "299 1992-08-17    1992-12-28      133 days       1993-05-10\n",
       "303 1995-06-06    1995-08-15       70 days       1995-10-24\n",
       "310 1997-09-20    1997-10-06       16 days       1997-10-22\n",
       "311 1990-01-06    1990-02-06       31 days       1990-03-09\n",
       "319 1990-11-30    1991-09-04      278 days       1992-06-08\n",
       "337 1990-08-16    1991-02-10      178 days       1991-08-07\n",
       "..         ...           ...           ...              ...\n",
       "767 1991-04-23    1992-04-05      348 days       1993-03-19\n",
       "770 1998-03-28    1998-06-05       69 days       1998-08-13\n",
       "779 1995-05-25    1996-02-21      272 days       1996-11-19\n",
       "781 1995-07-16    1995-08-17       32 days       1995-09-18\n",
       "784 1997-04-08    1997-11-09      215 days       1998-06-12\n",
       "791 1998-01-05    1998-09-01      239 days       1999-04-28\n",
       "797 1996-08-05    1997-04-10      248 days       1997-12-14\n",
       "819 1998-12-06    1999-07-31      237 days       2000-03-24\n",
       "828 1991-08-09    1992-01-15      159 days       1992-06-22\n",
       "834 1994-06-26    1994-09-28       94 days       1994-12-31\n",
       "841 1991-08-04    1992-05-09      279 days       1993-02-12\n",
       "843 1991-02-05    1991-05-06       90 days       1991-08-04\n",
       "846 1997-03-13    1997-12-03      265 days       1998-08-25\n",
       "851 1991-10-20    1992-08-26      311 days       1993-07-03\n",
       "853 1991-06-29    1992-05-13      319 days       1993-03-28\n",
       "861 1995-02-24    1995-10-17      235 days       1996-06-08\n",
       "868 1991-02-12    1991-12-26      317 days       1992-11-07\n",
       "873 1998-08-18    1998-10-05       48 days       1998-11-22\n",
       "896 1990-08-23    1991-05-05      255 days       1992-01-15\n",
       "898 1990-05-24    1990-06-01        8 days       1990-06-09\n",
       "912 1992-08-21    1993-01-24      156 days       1993-06-29\n",
       "932 1997-07-25    1998-04-09      258 days       1998-12-23\n",
       "934 1995-05-22    1995-07-11       50 days       1995-08-30\n",
       "939 1998-10-01    1998-12-07       67 days       1999-02-12\n",
       "949 1991-10-07    1992-01-07       92 days       1992-04-08\n",
       "954 1993-08-08    1994-01-23      168 days       1994-07-10\n",
       "969 1996-09-24    1996-11-16       53 days       1997-01-08\n",
       "975 1997-06-18    1997-11-02      137 days       1998-03-19\n",
       "985 1995-07-26    1996-06-18      328 days       1997-05-12\n",
       "994 1993-06-03    1993-06-13       10 days       1993-06-23\n",
       "\n",
       "[107 rows x 4 columns]"
      ]
     },
     "execution_count": 198,
     "metadata": {},
     "output_type": "execute_result"
    }
   ],
   "source": [
    "shipping[shipping[\"Delivery time\"]<\"365 days\"]"
   ]
  },
  {
   "cell_type": "code",
   "execution_count": 203,
   "metadata": {},
   "outputs": [
    {
     "data": {
      "text/plain": [
       "Timedelta('8 days 00:00:00')"
      ]
     },
     "execution_count": 203,
     "metadata": {},
     "output_type": "execute_result"
    }
   ],
   "source": [
    "shipping[\"Delivery time\"].min() #shortest delivery time"
   ]
  },
  {
   "cell_type": "code",
   "execution_count": 205,
   "metadata": {},
   "outputs": [
    {
     "data": {
      "text/plain": [
       "Timedelta('3583 days 00:00:00')"
      ]
     },
     "execution_count": 205,
     "metadata": {},
     "output_type": "execute_result"
    }
   ],
   "source": [
    "shipping[\"Delivery time\"].max() #longest delivery time"
   ]
  }
 ],
 "metadata": {
  "kernelspec": {
   "display_name": "Python 3",
   "language": "python",
   "name": "python3"
  },
  "language_info": {
   "codemirror_mode": {
    "name": "ipython",
    "version": 3
   },
   "file_extension": ".py",
   "mimetype": "text/x-python",
   "name": "python",
   "nbconvert_exporter": "python",
   "pygments_lexer": "ipython3",
   "version": "3.6.5"
  }
 },
 "nbformat": 4,
 "nbformat_minor": 2
}
